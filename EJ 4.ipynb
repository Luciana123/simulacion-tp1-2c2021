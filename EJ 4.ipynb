{
 "cells": [
  {
   "cell_type": "code",
   "execution_count": 16,
   "id": "c6422040",
   "metadata": {},
   "outputs": [],
   "source": [
    "import numpy as np\n",
    "import seaborn as sns"
   ]
  },
  {
   "cell_type": "code",
   "execution_count": 4,
   "id": "cf70fe4e",
   "metadata": {},
   "outputs": [],
   "source": [
    "#La llegada de vehículos a un estacionamiento sigue un proceso de Poisson de tasa λ\n",
    "#vehículos/hora. En el trabajo práctico se incluye un archivo con números pseudoaleatorios que\n",
    "#representan los tiempos entre arribos de dichos vehículos.\n",
    "# a) Realice una estimación de la tasa de arribos y proponga un test para evaluar si los\n",
    "#números pseudoaleatorios provistos siguen la distribución esperada.\n",
    "# b) Utilizando el GCL implementado en el Ejercicio 1 a) simular la llegada de vehículos durante\n",
    "#un mes. Graficar la cantidad de arribos en función del tiempo.\n",
    "# c) Generar 1000 realizaciones del proceso de Poisson para estimar las siguientes\n",
    "#probabilidades:\n",
    "# 1. Probabilidad que el primer vehículo arribe antes de los 10 minutos.\n",
    "# 2. Probabilidad que el undécimo vehículo arribe después de los 60 minutos.\n",
    "# 3. Probabilidad que arriben al menos 750 vehículos antes de las 72 horas.\n",
    "#Comparar con los valores teóricos."
   ]
  },
  {
   "cell_type": "markdown",
   "id": "fca48dc5",
   "metadata": {},
   "source": [
    "## Ejercicio 4"
   ]
  },
  {
   "cell_type": "markdown",
   "id": "ed7b5afa",
   "metadata": {},
   "source": [
    "###  a. "
   ]
  },
  {
   "cell_type": "code",
   "execution_count": 30,
   "id": "f07f840d",
   "metadata": {},
   "outputs": [],
   "source": [
    "Z = np.loadtxt('docs/tiempos_entre_arribos.txt')"
   ]
  },
  {
   "cell_type": "code",
   "execution_count": 31,
   "id": "69918165",
   "metadata": {
    "scrolled": true
   },
   "outputs": [
    {
     "data": {
      "text/plain": [
       "<AxesSubplot:ylabel='Count'>"
      ]
     },
     "execution_count": 31,
     "metadata": {},
     "output_type": "execute_result"
    },
    {
     "data": {
      "image/png": "[encoded data removed]",
      "text/plain": [
       "<Figure size 432x288 with 1 Axes>"
      ]
     },
     "metadata": {
      "needs_background": "light"
     },
     "output_type": "display_data"
    }
   ],
   "source": [
    "# Por definicion de Proceso de Poisson, el tiempo entre arribos debe \n",
    "# una distribución exponencial.\n",
    "sns.histplot(Z)"
   ]
  },
  {
   "cell_type": "code",
   "execution_count": 32,
   "id": "7d9a9fd8",
   "metadata": {},
   "outputs": [
    {
     "data": {
      "text/plain": [
       "10000"
      ]
     },
     "execution_count": 32,
     "metadata": {},
     "output_type": "execute_result"
    }
   ],
   "source": [
    "len(Z)"
   ]
  },
  {
   "cell_type": "code",
   "execution_count": 29,
   "id": "84113f58",
   "metadata": {},
   "outputs": [
    {
     "data": {
      "text/plain": [
       "9.889245996494681"
      ]
     },
     "execution_count": 29,
     "metadata": {},
     "output_type": "execute_result"
    }
   ],
   "source": [
    "# A priori sigue una distribución exponencial. Por lo tanto E[Z] = 1 / lambda.\n",
    "# Tomamos el AVG como un estimador incesgado para la Esperanza.\n",
    "\n",
    "# Estimación de la tasa\n",
    "tasa = len(arribos) / sum(arribos)\n",
    "tasa"
   ]
  },
  {
   "cell_type": "code",
   "execution_count": 39,
   "id": "ab149350",
   "metadata": {},
   "outputs": [
    {
     "name": "stdout",
     "output_type": "stream",
     "text": [
      "Estadístico: 2.003\n",
      "0.150: 0.922, Datos No exponenciales (Se rechaza H0)\n",
      "0.100: 1.078, Datos No exponenciales (Se rechaza H0)\n",
      "0.050: 1.341, Datos No exponenciales (Se rechaza H0)\n",
      "0.025: 1.606, Datos No exponenciales (Se rechaza H0)\n",
      "0.010: 1.957, Datos No exponenciales (Se rechaza H0)\n"
     ]
    }
   ],
   "source": [
    "# Test Anderson-Darling\n",
    "# H0: Z sigue una distribución exponencial.\n",
    "# H1: Z no sigue una distribución exponencial.\n",
    "from numpy.random import randn\n",
    "from scipy.stats import anderson\n",
    "\n",
    "#Ejecutamos el test\n",
    "resultado = anderson(Z, dist='expon')\n",
    "\n",
    "print('Estadístico: %.3f' % resultado.statistic)\n",
    "\n",
    "for i in range(len(resultado.critical_values)):\n",
    "    nivel_significancia, umbral = resultado.significance_level[i]/100, resultado.critical_values[i]\n",
    "    if resultado.statistic < resultado.critical_values[i]:\n",
    "        print('%.3f: %.3f, Datos exponenciales (No se puede rechazar H0)' % (nivel_significancia, umbral))\n",
    "    else:\n",
    "        print('%.3f: %.3f, Datos No exponenciales (Se rechaza H0)' % (nivel_significancia, umbral))"
   ]
  },
  {
   "cell_type": "code",
   "execution_count": null,
   "id": "094086e4",
   "metadata": {},
   "outputs": [],
   "source": [
    "# Para los niveles de significancia analizados 0.01, 0.025, 0.05, 0.1 y 0.15 se rechaza Ho\n",
    "# Por lo que podemos concluir que Z no sigue una distribucion exponencial."
   ]
  },
  {
   "cell_type": "markdown",
   "id": "e58e53f8",
   "metadata": {},
   "source": [
    "### b."
   ]
  },
  {
   "cell_type": "code",
   "execution_count": 91,
   "id": "afd462b4",
   "metadata": {},
   "outputs": [],
   "source": [
    "# GCL \n",
    "# TODO: borrar esto al mergear.\n",
    "\n",
    "padrones = [90638, 90638, 99714, 101939, 99689]\n",
    "avg_padrones = sum(padrones) / len(padrones)\n",
    "seed = int(avg_padrones)\n",
    "\n",
    "modulo = 4294967296\n",
    "multiplicador = 1013904223\n",
    "incremento = 1664525\n",
    "\n",
    "def next(num):\n",
    "    return (multiplicador * num + incremento) % modulo"
   ]
  },
  {
   "cell_type": "code",
   "execution_count": 65,
   "id": "39cb12fe",
   "metadata": {},
   "outputs": [
    {
     "data": {
      "text/plain": [
       "7350"
      ]
     },
     "execution_count": 65,
     "metadata": {},
     "output_type": "execute_result"
    }
   ],
   "source": [
    "# Tomando la tasa de arribos = 9.88\n",
    "# Debemos simular 1 mes, equivalente a 31 * 24 = 744 hs\n",
    "# E[N] = lambda * t = 9.88 * 744\n",
    "n = int(9.88 * 744)\n",
    "n"
   ]
  },
  {
   "cell_type": "code",
   "execution_count": 143,
   "id": "2b1a3f73",
   "metadata": {},
   "outputs": [],
   "source": [
    "# Genero un vector de distribución exponencial a partir del generador utilizando la inversa\n",
    "# de la funcion de densidad de la misma.\n",
    "\n",
    "# Inversa de la densidad de una VA exponencial\n",
    "def inv_exponential(x, mu):\n",
    "    return (- np.log(1-x) / mu)\n",
    "\n",
    "def exponential(num, mu=tasa):\n",
    "    return inv_exponential(num / modulo, mu)\n",
    "\n",
    "# Un mes -> 744 hs\n",
    "def sim_poisson(seed, t=744):\n",
    "    accum = 0\n",
    "    num = seed\n",
    "    P = []\n",
    "    while accum <= t:\n",
    "        num = next(num)\n",
    "        z = exponential(num)\n",
    "        accum += z\n",
    "        P.append(accum)\n",
    "        \n",
    "    return P"
   ]
  },
  {
   "cell_type": "code",
   "execution_count": 144,
   "id": "1c6f0797",
   "metadata": {},
   "outputs": [
    {
     "name": "stderr",
     "output_type": "stream",
     "text": [
      "/home/bacanavese/anaconda3/lib/python3.8/site-packages/seaborn/_decorators.py:36: FutureWarning: Pass the following variables as keyword args: x, y. From version 0.12, the only valid positional argument will be `data`, and passing other arguments without an explicit keyword will result in an error or misinterpretation.\n",
      "  warnings.warn(\n"
     ]
    },
    {
     "data": {
      "text/plain": [
       "<AxesSubplot:>"
      ]
     },
     "execution_count": 144,
     "metadata": {},
     "output_type": "execute_result"
    },
    {
     "data": {
      "image/png": "[encoded data removed]",
      "text/plain": [
       "<Figure size 842.4x595.44 with 1 Axes>"
      ]
     },
     "metadata": {},
     "output_type": "display_data"
    }
   ],
   "source": [
    "sns.set(rc={'figure.figsize':(11.7,8.27)})\n",
    "P = sim_poisson(seed)\n",
    "sns.lineplot(P, range(len(P)), drawstyle='steps-post')"
   ]
  },
  {
   "cell_type": "markdown",
   "id": "3ca59991",
   "metadata": {},
   "source": [
    "## c"
   ]
  },
  {
   "cell_type": "code",
   "execution_count": 148,
   "id": "9c19801b",
   "metadata": {},
   "outputs": [],
   "source": [
    "# Armamos 1000 muestras de Poisson con lamda = 9.88\n",
    "muestras = [sim_poisson(x, 73) for x in range(0, 1000)]"
   ]
  },
  {
   "cell_type": "markdown",
   "id": "a370988e",
   "metadata": {},
   "source": [
    "### a."
   ]
  },
  {
   "cell_type": "code",
   "execution_count": 145,
   "id": "ee87a56f",
   "metadata": {},
   "outputs": [],
   "source": [
    "# Probabilidad que el primer vehículo arribe antes de los 10 minutos."
   ]
  },
  {
   "cell_type": "code",
   "execution_count": 147,
   "id": "dbce1767",
   "metadata": {},
   "outputs": [
    {
     "data": {
      "text/plain": [
       "1000"
      ]
     },
     "execution_count": 147,
     "metadata": {},
     "output_type": "execute_result"
    }
   ],
   "source": [
    "# Pending\n",
    "\n",
    "len(muestras)"
   ]
  },
  {
   "cell_type": "code",
   "execution_count": 162,
   "id": "e9accbf5",
   "metadata": {},
   "outputs": [
    {
     "data": {
      "text/plain": [
       "0.8076055651533732"
      ]
     },
     "execution_count": 162,
     "metadata": {},
     "output_type": "execute_result"
    }
   ],
   "source": [
    "# Teoricamente P(X > 1) = 1 - P (X = 0)\n",
    "t = 1/6\n",
    "1 - np.exp(-tasa * t) "
   ]
  },
  {
   "cell_type": "markdown",
   "id": "c383e382",
   "metadata": {},
   "source": [
    "## b"
   ]
  },
  {
   "cell_type": "code",
   "execution_count": null,
   "id": "e153cca4",
   "metadata": {},
   "outputs": [],
   "source": [
    "# Probabilidad que el undécimo vehículo arribe después de los 60 minutos.x"
   ]
  },
  {
   "cell_type": "code",
   "execution_count": null,
   "id": "bed4ee12",
   "metadata": {},
   "outputs": [],
   "source": [
    "# Pending"
   ]
  },
  {
   "cell_type": "code",
   "execution_count": 166,
   "id": "4311e051",
   "metadata": {},
   "outputs": [
    {
     "data": {
      "text/plain": [
       "0.7093005827751803"
      ]
     },
     "execution_count": 166,
     "metadata": {},
     "output_type": "execute_result"
    }
   ],
   "source": [
    "# Teoricamente\n",
    "# P(X < 12) = P(X = 0) +...+ P(X = 11) \n",
    "t = 1\n",
    "sum([(np.exp(-tasa*t) * ((tasa*t) ** X)) / np.math.factorial(X) for X in range(0, 12)])"
   ]
  },
  {
   "cell_type": "markdown",
   "id": "9b01cad0",
   "metadata": {},
   "source": [
    "## c"
   ]
  },
  {
   "cell_type": "code",
   "execution_count": 168,
   "id": "ccc6293c",
   "metadata": {},
   "outputs": [],
   "source": [
    " # Probabilidad que arriben al menos 750 vehículos antes de las 72 horas."
   ]
  },
  {
   "cell_type": "code",
   "execution_count": 169,
   "id": "1163655c",
   "metadata": {},
   "outputs": [],
   "source": [
    "# Sim pending"
   ]
  },
  {
   "cell_type": "code",
   "execution_count": 171,
   "id": "73c688ab",
   "metadata": {},
   "outputs": [],
   "source": [
    "# Teoricamente P (X >= 750) = 1 - P(X < 750) = ...\n",
    "# 1 - sum([(np.exp(-tasa*t) * ((tasa*t) ** X)) / np.math.factorial(X) for X in range(0, 750)])"
   ]
  }
 ],
 "metadata": {
  "kernelspec": {
   "display_name": "Python 3",
   "language": "python",
   "name": "python3"
  },
  "language_info": {
   "codemirror_mode": {
    "name": "ipython",
    "version": 3
   },
   "file_extension": ".py",
   "mimetype": "text/x-python",
   "name": "python",
   "nbconvert_exporter": "python",
   "pygments_lexer": "ipython3",
   "version": "3.8.8"
  }
 },
 "nbformat": 4,
 "nbformat_minor": 5
}
