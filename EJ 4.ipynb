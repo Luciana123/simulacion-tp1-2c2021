{
 "cells": [
  {
   "cell_type": "code",
   "execution_count": 2,
   "id": "c6422040",
   "metadata": {},
   "outputs": [],
   "source": [
    "import numpy as np\n",
    "import seaborn as sns"
   ]
  },
  {
   "cell_type": "code",
   "execution_count": 3,
   "id": "cf70fe4e",
   "metadata": {},
   "outputs": [],
   "source": [
    "#La llegada de vehículos a un estacionamiento sigue un proceso de Poisson de tasa λ\n",
    "#vehículos/hora. En el trabajo práctico se incluye un archivo con números pseudoaleatorios que\n",
    "#representan los tiempos entre arribos de dichos vehículos.\n",
    "# a) Realice una estimación de la tasa de arribos y proponga un test para evaluar si los\n",
    "#números pseudoaleatorios provistos siguen la distribución esperada.\n",
    "# b) Utilizando el GCL implementado en el Ejercicio 1 a) simular la llegada de vehículos durante\n",
    "#un mes. Graficar la cantidad de arribos en función del tiempo.\n",
    "# c) Generar 1000 realizaciones del proceso de Poisson para estimar las siguientes\n",
    "#probabilidades:\n",
    "# 1. Probabilidad que el primer vehículo arribe antes de los 10 minutos.\n",
    "# 2. Probabilidad que el undécimo vehículo arribe después de los 60 minutos.\n",
    "# 3. Probabilidad que arriben al menos 750 vehículos antes de las 72 horas.\n",
    "#Comparar con los valores teóricos."
   ]
  },
  {
   "cell_type": "markdown",
   "id": "fca48dc5",
   "metadata": {},
   "source": [
    "## Ejercicio 4"
   ]
  },
  {
   "cell_type": "markdown",
   "id": "ed7b5afa",
   "metadata": {},
   "source": [
    "###  a. "
   ]
  },
  {
   "cell_type": "code",
   "execution_count": 4,
   "id": "f07f840d",
   "metadata": {},
   "outputs": [],
   "source": [
    "Z = np.loadtxt('docs/tiempos_entre_arribos.txt')"
   ]
  },
  {
   "cell_type": "code",
   "execution_count": 5,
   "id": "69918165",
   "metadata": {
    "scrolled": true
   },
   "outputs": [
    {
     "data": {
      "text/plain": [
       "<AxesSubplot:ylabel='Count'>"
      ]
     },
     "execution_count": 5,
     "metadata": {},
     "output_type": "execute_result"
    },
    {
     "data": {
      "image/png": "[encoded data removed]",
      "text/plain": [
       "<Figure size 432x288 with 1 Axes>"
      ]
     },
     "metadata": {
      "needs_background": "light"
     },
     "output_type": "display_data"
    }
   ],
   "source": [
    "# Por definicion de Proceso de Poisson, el tiempo entre arribos debe \n",
    "# una distribución exponencial.\n",
    "sns.histplot(Z)"
   ]
  },
  {
   "cell_type": "code",
   "execution_count": 6,
   "id": "84113f58",
   "metadata": {},
   "outputs": [
    {
     "data": {
      "text/plain": [
       "9.889245996494681"
      ]
     },
     "execution_count": 6,
     "metadata": {},
     "output_type": "execute_result"
    }
   ],
   "source": [
    "# A priori sigue una distribución exponencial. Por propiedad E[Z] = 1 / lambda.\n",
    "# Utilizando el estimador por máxima verosimilitud se llega que lambda ~ 1 / avg(Z)\n",
    "\n",
    "# Estimación de la tasa\n",
    "tasa = len(Z) / sum(Z)\n",
    "tasa"
   ]
  },
  {
   "cell_type": "code",
   "execution_count": 7,
   "id": "ab149350",
   "metadata": {},
   "outputs": [
    {
     "name": "stdout",
     "output_type": "stream",
     "text": [
      "Estadístico: 2.003\n",
      "0.150: 0.922, Datos No exponenciales (Se rechaza H0)\n",
      "0.100: 1.078, Datos No exponenciales (Se rechaza H0)\n",
      "0.050: 1.341, Datos No exponenciales (Se rechaza H0)\n",
      "0.025: 1.606, Datos No exponenciales (Se rechaza H0)\n",
      "0.010: 1.957, Datos No exponenciales (Se rechaza H0)\n"
     ]
    }
   ],
   "source": [
    "# Test Anderson-Darling\n",
    "# H0: Z sigue una distribución exponencial.\n",
    "# H1: Z no sigue una distribución exponencial.\n",
    "from numpy.random import randn\n",
    "from scipy.stats import anderson\n",
    "\n",
    "#Ejecutamos el test\n",
    "resultado = anderson(Z, dist='expon')\n",
    "\n",
    "print('Estadístico: %.3f' % resultado.statistic)\n",
    "\n",
    "for i in range(len(resultado.critical_values)):\n",
    "    nivel_significancia, umbral = resultado.significance_level[i]/100, resultado.critical_values[i]\n",
    "    if resultado.statistic < resultado.critical_values[i]:\n",
    "        print('%.3f: %.3f, Datos exponenciales (No se puede rechazar H0)' % (nivel_significancia, umbral))\n",
    "    else:\n",
    "        print('%.3f: %.3f, Datos No exponenciales (Se rechaza H0)' % (nivel_significancia, umbral))"
   ]
  },
  {
   "cell_type": "code",
   "execution_count": 8,
   "id": "094086e4",
   "metadata": {},
   "outputs": [],
   "source": [
    "# Para los niveles de significancia analizados 0.01, 0.025, 0.05, 0.1 y 0.15 se rechaza Ho\n",
    "# Por lo que podemos concluir que Z no sigue una distribucion exponencial."
   ]
  },
  {
   "cell_type": "markdown",
   "id": "e58e53f8",
   "metadata": {},
   "source": [
    "### b."
   ]
  },
  {
   "cell_type": "code",
   "execution_count": 9,
   "id": "afd462b4",
   "metadata": {},
   "outputs": [],
   "source": [
    "# GCL \n",
    "# TODO: borrar esto al mergear.\n",
    "\n",
    "padrones = [90638, 90638, 99714, 101939, 99689]\n",
    "avg_padrones = sum(padrones) / len(padrones)\n",
    "seed = int(avg_padrones)\n",
    "\n",
    "modulo = 4294967296\n",
    "multiplicador = 1013904223\n",
    "incremento = 1664525\n",
    "\n",
    "def next(num):\n",
    "    return (multiplicador * num + incremento) % modulo"
   ]
  },
  {
   "cell_type": "code",
   "execution_count": 10,
   "id": "2b1a3f73",
   "metadata": {},
   "outputs": [],
   "source": [
    "# Genero un vector de distribución exponencial a partir del generador utilizando la inversa\n",
    "# de la funcion de densidad de la misma.\n",
    "\n",
    "# Inversa de la densidad de una VA exponencial\n",
    "def inv_exponential(x, mu):\n",
    "    return (- np.log(x) / mu)\n",
    "\n",
    "def exponential(num, mu=tasa):\n",
    "    return inv_exponential(num / modulo, mu)\n",
    "\n",
    "def sim_poisson(seed, n=10000, t_limit=-1):\n",
    "    accum = 0\n",
    "    num = seed\n",
    "    P = []\n",
    "    while (accum <= t_limit if t_limit > 0 else True) and (len(P) < n if n > 0 else True):\n",
    "        num = next(num)\n",
    "        z = exponential(num)\n",
    "        accum += z\n",
    "        P.append(accum)\n",
    "        \n",
    "    return P"
   ]
  },
  {
   "cell_type": "code",
   "execution_count": 12,
   "id": "1c6f0797",
   "metadata": {},
   "outputs": [
    {
     "data": {
      "text/plain": [
       "<AxesSubplot:>"
      ]
     },
     "execution_count": 12,
     "metadata": {},
     "output_type": "execute_result"
    },
    {
     "data": {
      "image/png": "[encoded data removed]",
      "text/plain": [
       "<Figure size 842.4x595.44 with 1 Axes>"
      ]
     },
     "metadata": {},
     "output_type": "display_data"
    }
   ],
   "source": [
    "# Un mes, se asumen 31 días -> 744 hs\n",
    "P = sim_poisson(int(avg_padrones), n=-1, t_limit=744)\n",
    "\n",
    "sns.set(rc={'figure.figsize':(11.7,8.27)})\n",
    "sns.lineplot(x=P, y=range(len(P)), drawstyle='steps-post')"
   ]
  },
  {
   "cell_type": "markdown",
   "id": "3ca59991",
   "metadata": {},
   "source": [
    "## c"
   ]
  },
  {
   "cell_type": "code",
   "execution_count": 253,
   "id": "9c19801b",
   "metadata": {},
   "outputs": [],
   "source": [
    "from scipy.stats import poisson\n",
    "\n",
    "TOTAL_MUESTRAS = 1000\n",
    "\n",
    "# 1000 muestras de Poisson con lamda = 9.88\n",
    "muestras = [sim_poisson(x, t_limit=74) for x in range(0, TOTAL_MUESTRAS)]\n",
    "\n",
    "def positivos(muestras, f):\n",
    "    return sum([1 for x in muestras if f(x)])"
   ]
  },
  {
   "cell_type": "markdown",
   "id": "a370988e",
   "metadata": {},
   "source": [
    "### a."
   ]
  },
  {
   "cell_type": "markdown",
   "id": "2bb63654",
   "metadata": {},
   "source": [
    "Probabilidad que el primer vehículo arribe antes de los 10 minutos."
   ]
  },
  {
   "cell_type": "code",
   "execution_count": null,
   "id": "ee87a56f",
   "metadata": {},
   "outputs": [],
   "source": [
    "# La calculamos como: P(X >= 1) = 1 - P(X = 0), para t = 1/6 hs."
   ]
  },
  {
   "cell_type": "code",
   "execution_count": 260,
   "id": "28ea6404",
   "metadata": {},
   "outputs": [],
   "source": [
    "# Las muestras que caen dentro del intervalo [0, t).\n",
    "def first_bucket(P, t):\n",
    "    N = []\n",
    "    for x in P:\n",
    "        if x < t:\n",
    "            N.append(x)\n",
    "        else:\n",
    "            return N\n",
    "    "
   ]
  },
  {
   "cell_type": "code",
   "execution_count": 254,
   "id": "dbce1767",
   "metadata": {},
   "outputs": [
    {
     "data": {
      "text/plain": [
       "0.807"
      ]
     },
     "execution_count": 254,
     "metadata": {},
     "output_type": "execute_result"
    }
   ],
   "source": [
    "# Estimación\n",
    "T_A = 1/6\n",
    "\n",
    "# Primer arribo antes de los 10 min.\n",
    "def cumple_a(poisson):\n",
    "    return poisson[0] < T_A\n",
    "\n",
    "positivos(muestras, cumple_a) / TOTAL_MUESTRAS"
   ]
  },
  {
   "cell_type": "code",
   "execution_count": 234,
   "id": "e9accbf5",
   "metadata": {},
   "outputs": [
    {
     "data": {
      "text/plain": [
       "0.8076055651533732"
      ]
     },
     "execution_count": 234,
     "metadata": {},
     "output_type": "execute_result"
    }
   ],
   "source": [
    "# Teoricamente\n",
    "# P(X >= 1) = 1 - P (X = 0)\n",
    "1 - poisson.pmf(0, tasa * T_A)"
   ]
  },
  {
   "cell_type": "markdown",
   "id": "c383e382",
   "metadata": {},
   "source": [
    "## b"
   ]
  },
  {
   "cell_type": "code",
   "execution_count": null,
   "id": "e153cca4",
   "metadata": {},
   "outputs": [],
   "source": [
    "# Probabilidad que el undécimo vehículo arribe después de los 60 minutos.\n",
    "# La calculamos como: P(X < 12) = P(X = 0) +...+ P(X = 11), para t = 1 hr. "
   ]
  },
  {
   "cell_type": "code",
   "execution_count": 261,
   "id": "bed4ee12",
   "metadata": {},
   "outputs": [
    {
     "data": {
      "text/plain": [
       "0.697"
      ]
     },
     "execution_count": 261,
     "metadata": {},
     "output_type": "execute_result"
    }
   ],
   "source": [
    "# Estimación\n",
    "T_B = 1\n",
    "\n",
    "def cumple_b(poisson):\n",
    "    return len(first_bucket(poisson, T_B)) < 12\n",
    "    \n",
    "positivos(muestras, cumple_b) / TOTAL_MUESTRAS"
   ]
  },
  {
   "cell_type": "code",
   "execution_count": 240,
   "id": "4311e051",
   "metadata": {},
   "outputs": [
    {
     "data": {
      "text/plain": [
       "0.7093005827751792"
      ]
     },
     "execution_count": 240,
     "metadata": {},
     "output_type": "execute_result"
    }
   ],
   "source": [
    "# Teoricamente\n",
    "sum([poisson.pmf(X, tasa * T_B) for X in range(0, 12)])"
   ]
  },
  {
   "cell_type": "markdown",
   "id": "9b01cad0",
   "metadata": {},
   "source": [
    "## c"
   ]
  },
  {
   "cell_type": "markdown",
   "id": "6e56824c",
   "metadata": {},
   "source": [
    "Probabilidad que arriben al menos 750 vehículos antes de las 72 horas."
   ]
  },
  {
   "cell_type": "code",
   "execution_count": 7,
   "id": "ccc6293c",
   "metadata": {},
   "outputs": [],
   "source": [
    "# P (X >= 750) = 1 - P(X < 750) = ..."
   ]
  },
  {
   "cell_type": "code",
   "execution_count": 262,
   "id": "32d52899",
   "metadata": {},
   "outputs": [
    {
     "data": {
      "text/plain": [
       "0.079"
      ]
     },
     "execution_count": 262,
     "metadata": {},
     "output_type": "execute_result"
    }
   ],
   "source": [
    "# Estimación\n",
    "T_C = 72\n",
    "\n",
    "def cumple_c(poisson):\n",
    "    return len(first_bucket(poisson, T_C)) >= 750\n",
    "    \n",
    "positivos(muestras, cumple_c) / TOTAL_MUESTRAS"
   ]
  },
  {
   "cell_type": "code",
   "execution_count": 231,
   "id": "73c688ab",
   "metadata": {},
   "outputs": [
    {
     "data": {
      "text/plain": [
       "0.0809784853589276"
      ]
     },
     "execution_count": 231,
     "metadata": {},
     "output_type": "execute_result"
    }
   ],
   "source": [
    "# Teoricamente\n",
    "mu = tasa * T_C\n",
    "1 - sum([poisson.pmf(k, mu) for k in range(0, 750)])"
   ]
  }
 ],
 "metadata": {
  "kernelspec": {
   "display_name": "Python 3",
   "language": "python",
   "name": "python3"
  },
  "language_info": {
   "codemirror_mode": {
    "name": "ipython",
    "version": 3
   },
   "file_extension": ".py",
   "mimetype": "text/x-python",
   "name": "python",
   "nbconvert_exporter": "python",
   "pygments_lexer": "ipython3",
   "version": "3.9.5"
  }
 },
 "nbformat": 4,
 "nbformat_minor": 5
}
