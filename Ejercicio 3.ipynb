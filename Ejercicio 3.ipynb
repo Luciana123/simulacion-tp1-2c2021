{
 "cells": [
  {
   "cell_type": "code",
   "execution_count": 32,
   "id": "2315ba2f",
   "metadata": {},
   "outputs": [],
   "source": [
    "import numpy as np\n",
    "import matplotlib.pyplot as plt\n",
    "import scipy.stats as st\n",
    "from math import sqrt, exp, pi"
   ]
  },
  {
   "cell_type": "markdown",
   "id": "3d3f2868",
   "metadata": {},
   "source": [
    "#### Generar una distribución gaussiana\n",
    "Se generara una distribución gaussiana a partir del método de aceptación y rechazo usando como base una exponencial."
   ]
  },
  {
   "cell_type": "code",
   "execution_count": 23,
   "id": "aabb0c3d",
   "metadata": {},
   "outputs": [],
   "source": [
    "CANT= 100000\n",
    "COTA = sqrt(2*exp(1)/pi)\n",
    "DESVIO = 2\n",
    "MEDIA = 15\n",
    "estandar_simulados = []\n",
    "\n",
    "def gaussian(x):\n",
    "    return exp(-1/2 * x**2) / sqrt(2 * pi)\n",
    "\n",
    "def valor_normal(x):\n",
    "    return MEDIA + DESVIO * x\n",
    "\n",
    "def aceptation_proba(x):\n",
    "    return gaussian(x) / (exp(-x) * COTA)\n",
    "\n",
    "i = 0\n",
    "while i < CANT:\n",
    "    num1 = np.random.exponential(1)\n",
    "    num2= np.random.uniform()\n",
    "    if ( num2 < aceptation_proba(num1)):\n",
    "           estandar_simulados.append(num1) if np.random.rand() < 0.5 else estandar_simulados.append(-num1)           \n",
    "    i +=1\n",
    "            \n",
    "simulados = [ valor_normal(numero) for numero in estandar_simulados ]"
   ]
  },
  {
   "cell_type": "code",
   "execution_count": 24,
   "id": "f3e5a6ba",
   "metadata": {},
   "outputs": [
    {
     "data": {
      "text/plain": [
       "Text(0.5, 1.0, 'N(15, 2)')"
      ]
     },
     "execution_count": 24,
     "metadata": {},
     "output_type": "execute_result"
    },
    {
     "data": {
      "image/png": "[encoded data removed]",
      "text/plain": [
       "<Figure size 864x576 with 1 Axes>"
      ]
     },
     "metadata": {
      "needs_background": "light"
     },
     "output_type": "display_data"
    }
   ],
   "source": [
    "fig, ax = plt.subplots(1, 1, figsize=(12,8))\n",
    "\n",
    "ax.hist(simulados,100, density=True, color=\"green\")\n",
    "plt.title(\"N(15, 2)\", fontsize=20)\n"
   ]
  },
  {
   "cell_type": "markdown",
   "id": "d353a499",
   "metadata": {},
   "source": [
    "Calculamos la media y la varianza de los datos obtenidos\n"
   ]
  },
  {
   "cell_type": "code",
   "execution_count": 26,
   "id": "aa419efe",
   "metadata": {},
   "outputs": [
    {
     "name": "stdout",
     "output_type": "stream",
     "text": [
      "Media : 14.984386677556957\n",
      "Vairanza : 3.9993380839469497\n"
     ]
    }
   ],
   "source": [
    "print(f\"Media : {np.mean(simulados)}\")\n",
    "print(f\"Vairanza : {np.var(simulados)}\")"
   ]
  },
  {
   "cell_type": "markdown",
   "id": "cd729246",
   "metadata": {},
   "source": [
    "El test que utilizaremos para comprobar si los datos obetenidos siguen o no a una distribucion normal es el test de Kolmogorov Smirnov"
   ]
  },
  {
   "cell_type": "code",
   "execution_count": 75,
   "id": "740ea899",
   "metadata": {},
   "outputs": [],
   "source": [
    "alpha = 0.05\n",
    "\n",
    "def kolmogorov_smirnov_test():  \n",
    "    r = st.kstest(simulados, st.norm(MEDIA, DESVIO).cdf)\n",
    "    if (r.pvalue < alpha):\n",
    "           print(f\"No siguen la distribucion pedida, el p-valor es {r.pvalue}\")\n",
    "    else:\n",
    "        print(\"Los datos siguen la distribucion pedida\")"
   ]
  },
  {
   "cell_type": "code",
   "execution_count": 76,
   "id": "9fed951b",
   "metadata": {},
   "outputs": [
    {
     "name": "stdout",
     "output_type": "stream",
     "text": [
      "Los datos siguen la distribucion pedida\n"
     ]
    }
   ],
   "source": [
    "kolmogorov_smirnov_test()"
   ]
  },
  {
   "cell_type": "code",
   "execution_count": null,
   "id": "c515ee14",
   "metadata": {},
   "outputs": [],
   "source": []
  }
 ],
 "metadata": {
  "kernelspec": {
   "display_name": "Python 3",
   "language": "python",
   "name": "python3"
  },
  "language_info": {
   "codemirror_mode": {
    "name": "ipython",
    "version": 3
   },
   "file_extension": ".py",
   "mimetype": "text/x-python",
   "name": "python",
   "nbconvert_exporter": "python",
   "pygments_lexer": "ipython3",
   "version": "3.9.5"
  }
 },
 "nbformat": 4,
 "nbformat_minor": 5
}
