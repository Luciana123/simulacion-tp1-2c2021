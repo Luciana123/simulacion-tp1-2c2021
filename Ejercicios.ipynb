{
 "cells": [
  {
   "cell_type": "code",
   "execution_count": 1,
   "id": "02407992",
   "metadata": {},
   "outputs": [
    {
     "name": "stdout",
     "output_type": "stream",
     "text": [
      "Hello\n"
     ]
    }
   ],
   "source": [
    "print(\"Hello\")"
   ]
  },
  {
   "cell_type": "markdown",
   "id": "6b07d60f",
   "metadata": {},
   "source": [
    "# Ejercicio 1"
   ]
  },
  {
   "cell_type": "code",
   "execution_count": 2,
   "id": "883dc62e",
   "metadata": {},
   "outputs": [
    {
     "data": {
      "text/plain": [
       "96523"
      ]
     },
     "execution_count": 2,
     "metadata": {},
     "output_type": "execute_result"
    }
   ],
   "source": [
    "# Cálculo de la semilla\n",
    "\n",
    "padrones = [90638, 90638, 99714, 101939, 99689]\n",
    "avg_padrones = sum(padrones) / len(padrones)\n",
    "seed = int(avg_padrones)\n",
    "seed"
   ]
  },
  {
   "cell_type": "code",
   "execution_count": 85,
   "id": "81cfe315",
   "metadata": {},
   "outputs": [],
   "source": [
    "# GCL \n",
    "# Genera números al azar entre 0 y 1 a partir de una semilla num.\n",
    "\n",
    "modulo = 4294967296\n",
    "multiplicador = 1013904223\n",
    "incremento = 1664525\n",
    "\n",
    "def next(num):\n",
    "    return (multiplicador * num + incremento) % modulo"
   ]
  },
  {
   "cell_type": "code",
   "execution_count": 88,
   "id": "b6d582c1",
   "metadata": {},
   "outputs": [],
   "source": [
    "# Test\n",
    "\n",
    "l=[]\n",
    "num = next(seed)\n",
    "for i in range(10000):\n",
    "    l.append(num / modulo)\n",
    "    num = next(num) "
   ]
  },
  {
   "cell_type": "code",
   "execution_count": 7,
   "id": "fe6678ca",
   "metadata": {},
   "outputs": [
    {
     "data": {
      "image/png": "[encoded data removed]",
      "text/plain": [
       "<Figure size 432x288 with 1 Axes>"
      ]
     },
     "metadata": {
      "needs_background": "light"
     },
     "output_type": "display_data"
    }
   ],
   "source": [
    "# Gráficos\n",
    "\n",
    "import numpy as np \n",
    "import matplotlib.pyplot as plt\n",
    "\n",
    "plt.hist(l, rwidth = 0.8) \n",
    "plt.show()"
   ]
  },
  {
   "cell_type": "markdown",
   "id": "b56261f5",
   "metadata": {},
   "source": [
    "# Ejercicio 2a"
   ]
  },
  {
   "cell_type": "code",
   "execution_count": 154,
   "id": "6a65644d",
   "metadata": {},
   "outputs": [
    {
     "data": {
      "text/plain": [
       "[0.273, 0.52, 0.137, 0.048, 0.022]"
      ]
     },
     "execution_count": 154,
     "metadata": {},
     "output_type": "execute_result"
    }
   ],
   "source": [
    "values = [2,3,4,5,6]\n",
    "# p = [2730/10000,5200/10000,1370/10000,480/10000,220/10000]\n",
    "p = [2730/10000,5200/10000,1370/10000,480/10000,220/10000]\n",
    "p"
   ]
  },
  {
   "cell_type": "code",
   "execution_count": 155,
   "id": "c0c644a9",
   "metadata": {},
   "outputs": [
    {
     "data": {
      "text/plain": [
       "[0, 0.273, 0.793, 0.93, 0.9780000000000001, 1.0]"
      ]
     },
     "execution_count": 155,
     "metadata": {},
     "output_type": "execute_result"
    }
   ],
   "source": [
    "proba_vector = [0, p[0], p[0] + p[1], p[0] + p[1] + p[2], p[0] + p[1] + p[2] + p[3], p[0] + p[1] + p[2] + p[3] + p[4]]\n",
    "proba_vector"
   ]
  },
  {
   "cell_type": "code",
   "execution_count": 177,
   "id": "e0de3749",
   "metadata": {},
   "outputs": [
    {
     "name": "stdout",
     "output_type": "stream",
     "text": [
      "2\n",
      "2\n",
      "3\n",
      "4\n",
      "5\n",
      "6\n"
     ]
    }
   ],
   "source": [
    "#      p2                       p3                          p4                 p5          p6\n",
    "# 0 -------- 0.273 ----------------------- 0.793 ----------------------- 0.93 ----- 0.978 ---- 1\n",
    "\n",
    "def find_label(x, proba_vec):\n",
    "    label_idx = 0\n",
    "    for idx in range(0, len(proba_vec)-1):\n",
    "        if ((x >= proba_vec[idx]) and (x <= proba_vec[idx+1])):\n",
    "            label_idx = idx\n",
    "    return values[label_idx]\n",
    "\n",
    "# Test\n",
    "print(find_label(0.1, proba_vector)) # should be 2\n",
    "print(find_label(0.2, proba_vector)) # should be 2\n",
    "print(find_label(0.5, proba_vector)) # should be 3\n",
    "print(find_label(0.8, proba_vector)) # should be 4\n",
    "print(find_label(0.96, proba_vector)) # should be 5\n",
    "print(find_label(0.99, proba_vector)) # should be 6\n",
    "    "
   ]
  },
  {
   "cell_type": "code",
   "execution_count": 178,
   "id": "071ff964",
   "metadata": {},
   "outputs": [],
   "source": [
    "# Genero las simulaciones de valores.\n",
    "\n",
    "variable_values=[]\n",
    "num = next(seed)\n",
    "for i in range(100000):\n",
    "    variable_values.append(find_label(num / modulo, proba_vector))\n",
    "    num = next(num) \n"
   ]
  },
  {
   "cell_type": "code",
   "execution_count": 179,
   "id": "01c329fa",
   "metadata": {},
   "outputs": [
    {
     "data": {
      "image/png": "[encoded data removed]",
      "text/plain": [
       "<Figure size 432x288 with 1 Axes>"
      ]
     },
     "metadata": {
      "needs_background": "light"
     },
     "output_type": "display_data"
    }
   ],
   "source": [
    "# Gráficos\n",
    "\n",
    "import numpy as np \n",
    "import matplotlib.pyplot as plt\n",
    "\n",
    "plt.bar(*np.unique(variable_values, return_counts=True))\n",
    "plt.show()"
   ]
  },
  {
   "cell_type": "markdown",
   "id": "78ba5986",
   "metadata": {},
   "source": [
    "# Ejercicio 2b"
   ]
  },
  {
   "cell_type": "code",
   "execution_count": 180,
   "id": "56319811",
   "metadata": {},
   "outputs": [
    {
     "data": {
      "text/plain": [
       "{2: 0.273, 3: 0.52, 4: 0.137, 5: 0.048, 6: 0.022}"
      ]
     },
     "execution_count": 180,
     "metadata": {},
     "output_type": "execute_result"
    }
   ],
   "source": [
    "# Creo un dict, donde las keys son las etiquetas y los valores son las probabilidades de cada una.\n",
    "\n",
    "proba_dict = dict(zip(values, p))\n",
    "\n",
    "proba_dict"
   ]
  },
  {
   "cell_type": "markdown",
   "id": "eaf06eac",
   "metadata": {},
   "source": [
    "## Test de chi2\n",
    "Hipótesis nula: la distribución se corresponde con la propuesta por el enunciado."
   ]
  },
  {
   "cell_type": "code",
   "execution_count": 182,
   "id": "a28f4677",
   "metadata": {},
   "outputs": [
    {
     "name": "stdout",
     "output_type": "stream",
     "text": [
      "Límite superior: 11.070497693516351\n",
      "D2: 5.177128632012732\n",
      "El test no rechaza la hipotesis nula.\n"
     ]
    }
   ],
   "source": [
    "# Estadístico del test: d^2 = sum i...k( (Ys - n * ps)^2 / (n * ps) )\n",
    "\n",
    "from scipy.stats import chi2\n",
    "\n",
    "d2 = 0\n",
    "for i in range(2, 7):\n",
    "    freq_observed = len([val for val in variable_values if val == i])\n",
    "    freq_expected = proba_dict[i] * len(variable_values)\n",
    "    partial_sum = (freq_observed - freq_expected)**2 / (freq_expected)\n",
    "    d2 = d2 + partial_sum\n",
    "\n",
    "sup_limit = chi2.ppf(0.95, df=5)\n",
    "print(\"Límite superior: \" + str(sup_limit))\n",
    "print(\"D2: \" + str(d2))\n",
    "\n",
    "if d2 <= sup_limit:  \n",
    "    print(\"El test no rechaza la hipotesis nula.\") \n",
    "else:  \n",
    "    print(\"El test rechaza la hipótesis nula\") "
   ]
  },
  {
   "cell_type": "code",
   "execution_count": null,
   "id": "0bc480e1",
   "metadata": {},
   "outputs": [],
   "source": []
  },
  {
   "cell_type": "code",
   "execution_count": null,
   "id": "bff33081",
   "metadata": {},
   "outputs": [],
   "source": []
  }
 ],
 "metadata": {
  "kernelspec": {
   "display_name": "Python 3",
   "language": "python",
   "name": "python3"
  },
  "language_info": {
   "codemirror_mode": {
    "name": "ipython",
    "version": 3
   },
   "file_extension": ".py",
   "mimetype": "text/x-python",
   "name": "python",
   "nbconvert_exporter": "python",
   "pygments_lexer": "ipython3",
   "version": "3.9.5"
  }
 },
 "nbformat": 4,
 "nbformat_minor": 5
}
