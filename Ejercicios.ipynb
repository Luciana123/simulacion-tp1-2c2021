{
 "cells": [
  {
   "cell_type": "code",
   "execution_count": 1,
   "id": "02407992",
   "metadata": {},
   "outputs": [
    {
     "name": "stdout",
     "output_type": "stream",
     "text": [
      "Hello\n"
     ]
    }
   ],
   "source": [
    "print(\"Hello\")"
   ]
  },
  {
   "cell_type": "markdown",
   "id": "81c14855",
   "metadata": {},
   "source": [
    "# Ejercicio 1"
   ]
  },
  {
   "cell_type": "code",
   "execution_count": 2,
   "id": "883dc62e",
   "metadata": {},
   "outputs": [
    {
     "data": {
      "text/plain": [
       "96523"
      ]
     },
     "execution_count": 2,
     "metadata": {},
     "output_type": "execute_result"
    }
   ],
   "source": [
    "# Cálculo de la semilla\n",
    "\n",
    "padrones = [90638, 90638, 99714, 101939, 99689]\n",
    "avg_padrones = sum(padrones) / len(padrones)\n",
    "seed = int(avg_padrones)\n",
    "seed"
   ]
  },
  {
   "cell_type": "code",
   "execution_count": 3,
   "id": "81cfe315",
   "metadata": {},
   "outputs": [],
   "source": [
    "# GCL \n",
    "# Genera números al azar entre 0 y 1 a partir de una semilla num.\n",
    "\n",
    "modulo = 4294967296\n",
    "multiplicador = 1013904223\n",
    "incremento = 1664525\n",
    "\n",
    "def next(num):\n",
    "    return (multiplicador * num + incremento) % modulo"
   ]
  },
  {
   "cell_type": "code",
   "execution_count": 4,
   "id": "b6d582c1",
   "metadata": {},
   "outputs": [],
   "source": [
    "# Test\n",
    "\n",
    "l=[]\n",
    "num = next(seed)\n",
    "for i in range(10000):\n",
    "    l.append(num / modulo)\n",
    "    num = next(num) "
   ]
  },
  {
   "cell_type": "code",
   "execution_count": 5,
   "id": "fe6678ca",
   "metadata": {},
   "outputs": [
    {
     "data": {
      "image/png": "[encoded data removed]",
      "text/plain": [
       "<Figure size 432x288 with 1 Axes>"
      ]
     },
     "metadata": {
      "needs_background": "light"
     },
     "output_type": "display_data"
    }
   ],
   "source": [
    "# Gráficos\n",
    "\n",
    "import numpy as np \n",
    "import matplotlib.pyplot as plt\n",
    "\n",
    "plt.hist(l, rwidth = 0.8) \n",
    "plt.show()"
   ]
  },
  {
   "cell_type": "markdown",
   "id": "6fdf8d40",
   "metadata": {},
   "source": [
    "# Ejercicio 2a"
   ]
  },
  {
   "cell_type": "code",
   "execution_count": 6,
   "id": "9540685a",
   "metadata": {},
   "outputs": [
    {
     "data": {
      "text/plain": [
       "[0.273, 0.52, 0.137, 0.048, 0.022]"
      ]
     },
     "execution_count": 6,
     "metadata": {},
     "output_type": "execute_result"
    }
   ],
   "source": [
    "values = [2,3,4,5,6]\n",
    "p = [2730/10000,5200/10000,1370/10000,480/10000,220/10000]\n",
    "\n",
    "# Se probó que con una distribución distinta sí se rechaza la hipótesis nula.\n",
    "# p = [1000/10000,6570/10000,1370/10000,480/10000,220/10000]\n",
    "p"
   ]
  },
  {
   "cell_type": "code",
   "execution_count": 7,
   "id": "331a1d9e",
   "metadata": {},
   "outputs": [
    {
     "data": {
      "text/plain": [
       "[0, 0.273, 0.793, 0.93, 0.9780000000000001, 1.0]"
      ]
     },
     "execution_count": 7,
     "metadata": {},
     "output_type": "execute_result"
    }
   ],
   "source": [
    "proba_vector = [0, p[0], p[0] + p[1], p[0] + p[1] + p[2], p[0] + p[1] + p[2] + p[3], p[0] + p[1] + p[2] + p[3] + p[4]]\n",
    "proba_vector"
   ]
  },
  {
   "cell_type": "code",
   "execution_count": 8,
   "id": "0217b6fb",
   "metadata": {},
   "outputs": [
    {
     "name": "stdout",
     "output_type": "stream",
     "text": [
      "2\n",
      "2\n",
      "3\n",
      "4\n",
      "5\n",
      "6\n"
     ]
    }
   ],
   "source": [
    "#      p2                       p3                          p4                 p5          p6\n",
    "# 0 -------- 0.273 ----------------------- 0.793 ----------------------- 0.93 ----- 0.978 ---- 1\n",
    "\n",
    "def find_label(x, proba_vec):\n",
    "    label_idx = 0\n",
    "    for idx in range(0, len(proba_vec)-1):\n",
    "        if ((x >= proba_vec[idx]) and (x <= proba_vec[idx+1])):\n",
    "            label_idx = idx\n",
    "    return values[label_idx]\n",
    "\n",
    "# Test\n",
    "print(find_label(0.1, proba_vector)) # should be 2\n",
    "print(find_label(0.2, proba_vector)) # should be 2\n",
    "print(find_label(0.5, proba_vector)) # should be 3\n",
    "print(find_label(0.8, proba_vector)) # should be 4\n",
    "print(find_label(0.96, proba_vector)) # should be 5\n",
    "print(find_label(0.99, proba_vector)) # should be 6\n",
    "    "
   ]
  },
  {
   "cell_type": "code",
   "execution_count": 9,
   "id": "ada33ed4",
   "metadata": {},
   "outputs": [],
   "source": [
    "# Genero las simulaciones de valores.\n",
    "\n",
    "variable_values=[]\n",
    "num = next(seed)\n",
    "for i in range(100000):\n",
    "    variable_values.append(find_label(num / modulo, proba_vector))\n",
    "    num = next(num) \n"
   ]
  },
  {
   "cell_type": "code",
   "execution_count": 10,
   "id": "79719ed7",
   "metadata": {},
   "outputs": [
    {
     "data": {
      "image/png": "[encoded data removed]",
      "text/plain": [
       "<Figure size 432x288 with 1 Axes>"
      ]
     },
     "metadata": {
      "needs_background": "light"
     },
     "output_type": "display_data"
    }
   ],
   "source": [
    "# Gráficos\n",
    "\n",
    "import numpy as np \n",
    "import matplotlib.pyplot as plt\n",
    "\n",
    "plt.bar(*np.unique(variable_values, return_counts=True))\n",
    "plt.show()"
   ]
  },
  {
   "cell_type": "markdown",
   "id": "91c241f3",
   "metadata": {},
   "source": [
    "# Ejercicio 2b"
   ]
  },
  {
   "cell_type": "code",
   "execution_count": 11,
   "id": "00a1ab37",
   "metadata": {},
   "outputs": [
    {
     "data": {
      "text/plain": [
       "{2: 0.273, 3: 0.52, 4: 0.137, 5: 0.048, 6: 0.022}"
      ]
     },
     "execution_count": 11,
     "metadata": {},
     "output_type": "execute_result"
    }
   ],
   "source": [
    "# Creo un dict, donde las keys son las etiquetas y los valores son las probabilidades de cada una.\n",
    "\n",
    "proba_dict = dict(zip(values, p))\n",
    "\n",
    "proba_dict"
   ]
  },
  {
   "cell_type": "markdown",
   "id": "c1d83073",
   "metadata": {},
   "source": [
    "## Test de chi2\n",
    "Hipótesis nula: la distribución se corresponde con la propuesta por el enunciado."
   ]
  },
  {
   "cell_type": "code",
   "execution_count": 16,
   "id": "d2da5e4a",
   "metadata": {},
   "outputs": [
    {
     "name": "stdout",
     "output_type": "stream",
     "text": [
      "Límite superior: 9.487729036781154\n",
      "D2: 5.177128632012732\n",
      "El test no rechaza la hipotesis nula.\n"
     ]
    }
   ],
   "source": [
    "# Estadístico del test: d^2 = sum i...k( (Ys - n * ps)^2 / (n * ps) )\n",
    "\n",
    "from scipy.stats import chi2\n",
    "\n",
    "d2 = 0\n",
    "for i in range(2, 7):\n",
    "    freq_observed = len([val for val in variable_values if val == i])\n",
    "    freq_expected = proba_dict[i] * len(variable_values)\n",
    "    partial_sum = (freq_observed - freq_expected)**2 / (freq_expected)\n",
    "    d2 = d2 + partial_sum\n",
    "\n",
    "# df son los grados de libertad de la chi, debería ser la cantidad de labels (K) menos 1 \n",
    "sup_limit = chi2.ppf(0.95, df=4)\n",
    "print(\"Límite superior: \" + str(sup_limit))\n",
    "print(\"D2: \" + str(d2))\n",
    "\n",
    "if d2 <= sup_limit:  \n",
    "    print(\"El test no rechaza la hipotesis nula.\") \n",
    "else:  \n",
    "    print(\"El test rechaza la hipótesis nula\") "
   ]
  },
  {
   "cell_type": "markdown",
   "id": "2f63c737",
   "metadata": {},
   "source": [
    "# Ejercicio 3"
   ]
  },
  {
   "cell_type": "markdown",
   "id": "482fe377",
   "metadata": {},
   "source": [
    "## Generar una distribución gaussiana\n",
    "Se generara una distribución gaussiana a partir del método de aceptación y rechazo usando como base una exponencial generada con transformada inversa."
   ]
  },
  {
   "cell_type": "code",
   "execution_count": 13,
   "id": "eb2862a1",
   "metadata": {},
   "outputs": [],
   "source": [
    "from matplotlib import pyplot as mp\n",
    "import numpy as np\n",
    "\n",
    "# Densidad de proba de una distribución gausiana\n",
    "def gaussian(x, mu, sig):\n",
    "    return np.exp(-np.power(-(x - mu), 2.) / (2 * np.power(sig, 2.))) / (np.sqrt(2*np.pi) * sig)\n",
    "\n",
    "#f =e^(-(x - μ)^2/(2 σ^2))/(sqrt(2 π) σ)\n",
    "\n",
    "# Densidad de proba de una distribución exponencial\n",
    "def exponential(x, mu):\n",
    "    return mu*np.exp(-mu*x)\n",
    "\n",
    "# Inversa de la densidad de una VA exponencial\n",
    "def inv_exponential(x, mu):\n",
    "    return (- np.log(1-x) / mu)"
   ]
  },
  {
   "cell_type": "code",
   "execution_count": 14,
   "id": "567d5701",
   "metadata": {},
   "outputs": [
    {
     "data": {
      "image/png": "[encoded data removed]",
      "text/plain": [
       "<Figure size 432x288 with 1 Axes>"
      ]
     },
     "metadata": {
      "needs_background": "light"
     },
     "output_type": "display_data"
    }
   ],
   "source": [
    "# Genero un vector de distribución exponencial a partir del generador\n",
    "\n",
    "mu = 15\n",
    "std_dev = 2\n",
    "\n",
    "exp_distribution_vector = []\n",
    "num = seed\n",
    "for n in range(0, 100000):\n",
    "    num = next(num) \n",
    "    exp_distribution_vector.append(inv_exponential(num / modulo, mu))\n",
    "\n",
    "exp_distribution_vector\n",
    "plt.hist(exp_distribution_vector, rwidth = 0.9) \n",
    "plt.show()"
   ]
  },
  {
   "cell_type": "code",
   "execution_count": 15,
   "id": "c47eab27",
   "metadata": {},
   "outputs": [
    {
     "name": "stdout",
     "output_type": "stream",
     "text": [
      "4.588534807527386e-06\n"
     ]
    },
    {
     "name": "stderr",
     "output_type": "stream",
     "text": [
      "<ipython-input-15-1b2d60d64b42>:5: RuntimeWarning: divide by zero encountered in double_scalars\n",
      "  return gaussian(value, mu, std_dev)/(c * exponential(value, mu))\n",
      "<ipython-input-15-1b2d60d64b42>:5: RuntimeWarning: invalid value encountered in double_scalars\n",
      "  return gaussian(value, mu, std_dev)/(c * exponential(value, mu))\n"
     ]
    },
    {
     "name": "stdout",
     "output_type": "stream",
     "text": [
      "Rendimiento: 0.0009\n"
     ]
    },
    {
     "data": {
      "image/png": "[encoded data removed]",
      "text/plain": [
       "<Figure size 432x288 with 1 Axes>"
      ]
     },
     "metadata": {
      "needs_background": "light"
     },
     "output_type": "display_data"
    }
   ],
   "source": [
    "import random\n",
    "# Genero una distribución normal a partir de la exponencial\n",
    "\n",
    "def aceptation_proba(value, c):\n",
    "    return gaussian(value, mu, std_dev)/(c * exponential(value, mu))\n",
    "\n",
    "# Check\n",
    "t = 1\n",
    "c = gaussian(t, mu, std_dev) / exponential(t, mu)\n",
    "\n",
    "print( exponential(t, mu))\n",
    "\n",
    "normal_distribution_values = []\n",
    "\n",
    "num1 = seed\n",
    "num2 = random.uniform(0, 1)\n",
    "for n in range(0, len(exp_distribution_vector)):\n",
    "    num1 = next(num1)\n",
    "    if num1 < aceptation_proba(n, c): # acepto exp_distribution_vector(n) con prob. aceptation_proba(n)\n",
    "        num2 = random.uniform(0, 1)\n",
    "        if num2 < 0.5:    # con prob 0.5 lo dejo positivo\n",
    "            normal_distribution_values.append(exp_distribution_vector[n])\n",
    "        else:           # con prob 0.5 lo hago negativo\n",
    "            normal_distribution_values.append(-exp_distribution_vector[n])\n",
    "        \n",
    "print(\"Rendimiento: \" + str(len(normal_distribution_values)/len(exp_distribution_vector)) )\n",
    "plt.hist(normal_distribution_values) \n",
    "plt.show()\n",
    "\n"
   ]
  },
  {
   "cell_type": "code",
   "execution_count": 17,
   "id": "c73f6ebb",
   "metadata": {},
   "outputs": [],
   "source": [
    "def foo():\n",
    "    print(\"Done\")"
   ]
  }
 ],
 "metadata": {
  "kernelspec": {
   "display_name": "Python 3",
   "language": "python",
   "name": "python3"
  },
  "language_info": {
   "codemirror_mode": {
    "name": "ipython",
    "version": 3
   },
   "file_extension": ".py",
   "mimetype": "text/x-python",
   "name": "python",
   "nbconvert_exporter": "python",
   "pygments_lexer": "ipython3",
   "version": "3.9.5"
  }
 },
 "nbformat": 4,
 "nbformat_minor": 5
}
