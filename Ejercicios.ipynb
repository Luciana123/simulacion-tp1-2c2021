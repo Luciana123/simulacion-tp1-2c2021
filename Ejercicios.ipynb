{
 "cells": [
  {
   "cell_type": "code",
   "execution_count": 1,
   "id": "02407992",
   "metadata": {},
   "outputs": [
    {
     "name": "stdout",
     "output_type": "stream",
     "text": [
      "Hello\n"
     ]
    }
   ],
   "source": [
    "print(\"Hello\")"
   ]
  },
  {
   "cell_type": "markdown",
   "id": "6adef023",
   "metadata": {},
   "source": [
    "# Ejercicio 1"
   ]
  },
  {
   "cell_type": "code",
   "execution_count": 2,
   "id": "883dc62e",
   "metadata": {},
   "outputs": [
    {
     "data": {
      "text/plain": [
       "96523"
      ]
     },
     "execution_count": 2,
     "metadata": {},
     "output_type": "execute_result"
    }
   ],
   "source": [
    "# Cálculo de la semilla\n",
    "\n",
    "padrones = [90638, 90638, 99714, 101939, 99689]\n",
    "avg_padrones = sum(padrones) / len(padrones)\n",
    "seed = int(avg_padrones)\n",
    "seed"
   ]
  },
  {
   "cell_type": "code",
   "execution_count": 85,
   "id": "81cfe315",
   "metadata": {},
   "outputs": [],
   "source": [
    "# GCL \n",
    "# Genera números al azar entre 0 y 1 a partir de una semilla num.\n",
    "\n",
    "modulo = 4294967296\n",
    "multiplicador = 1013904223\n",
    "incremento = 1664525\n",
    "\n",
    "def next(num):\n",
    "    return (multiplicador * num + incremento) % modulo"
   ]
  },
  {
   "cell_type": "code",
   "execution_count": 88,
   "id": "b6d582c1",
   "metadata": {},
   "outputs": [],
   "source": [
    "# Test\n",
    "\n",
    "l=[]\n",
    "num = next(seed)\n",
    "for i in range(10000):\n",
    "    l.append(num / modulo)\n",
    "    num = next(num) "
   ]
  },
  {
   "cell_type": "code",
   "execution_count": 7,
   "id": "fe6678ca",
   "metadata": {},
   "outputs": [
    {
     "data": {
      "image/png": "[encoded data removed]",
      "text/plain": [
       "<Figure size 432x288 with 1 Axes>"
      ]
     },
     "metadata": {
      "needs_background": "light"
     },
     "output_type": "display_data"
    }
   ],
   "source": [
    "# Gráficos\n",
    "\n",
    "import numpy as np \n",
    "import matplotlib.pyplot as plt\n",
    "\n",
    "plt.hist(l, rwidth = 0.8) \n",
    "plt.show()"
   ]
  },
  {
   "cell_type": "markdown",
   "id": "c2baa450",
   "metadata": {},
   "source": [
    "# Ejercicio 2a"
   ]
  },
  {
   "cell_type": "code",
   "execution_count": 12,
   "id": "9a7624bd",
   "metadata": {},
   "outputs": [
    {
     "data": {
      "text/plain": [
       "[0.273, 0.52, 0.137, 0.048, 0.022]"
      ]
     },
     "execution_count": 12,
     "metadata": {},
     "output_type": "execute_result"
    }
   ],
   "source": [
    "values = [2,3,4,5,6]\n",
    "p = [2730/10000,5200/10000,1370/10000,480/10000,220/10000]\n",
    "p"
   ]
  },
  {
   "cell_type": "code",
   "execution_count": 59,
   "id": "99b4b1d3",
   "metadata": {},
   "outputs": [
    {
     "data": {
      "text/plain": [
       "[0, 0.273, 0.793, 0.93, 0.9780000000000001, 1.0]"
      ]
     },
     "execution_count": 59,
     "metadata": {},
     "output_type": "execute_result"
    }
   ],
   "source": [
    "proba_vector = [0, p[0], p[0] + p[1], p[0] + p[1] + p[2], p[0] + p[1] + p[2] + p[3], p[0] + p[1] + p[2] + p[3] + p[4]]\n",
    "proba_vector"
   ]
  },
  {
   "cell_type": "code",
   "execution_count": 84,
   "id": "6c64d50c",
   "metadata": {},
   "outputs": [
    {
     "name": "stdout",
     "output_type": "stream",
     "text": [
      "2\n",
      "2\n",
      "3\n"
     ]
    }
   ],
   "source": [
    "#      p2                       p3                          p4                 p5          p6\n",
    "# 0 -------- 0.273 ----------------------- 0.793 ----------------------- 0.93 ----- 0.978 ---- 1\n",
    "\n",
    "def segment_index(x, proba_vec):\n",
    "    label_idx = 0\n",
    "    for idx in range(0, len(proba_vec)-1):\n",
    "        if ((x >= proba_vec[idx]) and (x <= proba_vec[idx+1])):\n",
    "            label_idx = idx\n",
    "    return values[label_idx]\n",
    "\n",
    "# Test\n",
    "print(segment_index(0.1, proba_vector)) # should be 2\n",
    "print(segment_index(0.2, proba_vector)) # should be 2\n",
    "print(segment_index(0.5, proba_vector)) # should be 3\n",
    "    "
   ]
  },
  {
   "cell_type": "code",
   "execution_count": 90,
   "id": "157c96b3",
   "metadata": {},
   "outputs": [],
   "source": [
    "# Generate test cases\n",
    "\n",
    "l=[]\n",
    "num = next(seed)\n",
    "for i in range(100000):\n",
    "    l.append(segment_index(num / modulo, proba_vector))\n",
    "    num = next(num) \n"
   ]
  },
  {
   "cell_type": "code",
   "execution_count": 92,
   "id": "7bd615d1",
   "metadata": {},
   "outputs": [
    {
     "data": {
      "image/png": "[encoded data removed]",
      "text/plain": [
       "<Figure size 432x288 with 1 Axes>"
      ]
     },
     "metadata": {
      "needs_background": "light"
     },
     "output_type": "display_data"
    }
   ],
   "source": [
    "# Gráficos\n",
    "\n",
    "import numpy as np \n",
    "import matplotlib.pyplot as plt\n",
    "\n",
    "plt.hist(l) \n",
    "plt.show()"
   ]
  }
 ],
 "metadata": {
  "kernelspec": {
   "display_name": "Python 3",
   "language": "python",
   "name": "python3"
  },
  "language_info": {
   "codemirror_mode": {
    "name": "ipython",
    "version": 3
   },
   "file_extension": ".py",
   "mimetype": "text/x-python",
   "name": "python",
   "nbconvert_exporter": "python",
   "pygments_lexer": "ipython3",
   "version": "3.9.5"
  }
 },
 "nbformat": 4,
 "nbformat_minor": 5
}
