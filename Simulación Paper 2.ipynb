{
 "cells": [
  {
   "cell_type": "markdown",
   "metadata": {},
   "source": [
    "# Paper"
   ]
  },
  {
   "cell_type": "code",
   "execution_count": 1,
   "metadata": {},
   "outputs": [],
   "source": [
    "import matplotlib.pyplot as plt\n",
    "import numpy as np"
   ]
  },
  {
   "cell_type": "code",
   "execution_count": 2,
   "metadata": {},
   "outputs": [],
   "source": [
    "crossroad_width = 42\n",
    "crossroad_height = 10"
   ]
  },
  {
   "cell_type": "code",
   "execution_count": 3,
   "metadata": {},
   "outputs": [],
   "source": [
    "# Armo el mapa del cruce\n",
    "\n",
    "waiting_area = 'W'\n",
    "street_cell = 'S'\n",
    "x_cells = crossroad_width\n",
    "y_cells = crossroad_height\n",
    "\n",
    "map = np.array([[waiting_area]+[street_cell for number in range(x_cells)]+[waiting_area] for i in range(0,y_cells)])"
   ]
  },
  {
   "cell_type": "code",
   "execution_count": 4,
   "metadata": {},
   "outputs": [],
   "source": [
    "pedestrians = []\n",
    "vehicles = []"
   ]
  },
  {
   "cell_type": "code",
   "execution_count": 5,
   "metadata": {
    "scrolled": true
   },
   "outputs": [],
   "source": [
    "lambdapk = 0.7 # tasa de arribo de peatones (arribo / seg)\n",
    "lambdavk = 0.6 # tasa de arribo de autos (arribo / seg)\n",
    "\n",
    "def get_new_pedestrians():\n",
    "    return np.random.poisson(lambdapk)\n",
    "\n",
    "def get_new_cars():\n",
    "    return np.random.poisson(lambdavk)"
   ]
  },
  {
   "cell_type": "code",
   "execution_count": 6,
   "metadata": {},
   "outputs": [
    {
     "name": "stdout",
     "output_type": "stream",
     "text": [
      "Hello\n"
     ]
    },
    {
     "data": {
      "image/png": "[encoded data removed]",
      "text/plain": [
       "<Figure size 432x288 with 1 Axes>"
      ]
     },
     "metadata": {
      "needs_background": "light"
     },
     "output_type": "display_data"
    },
    {
     "name": "stdout",
     "output_type": "stream",
     "text": [
      "2\n",
      "2\n",
      "3\n",
      "4\n",
      "5\n",
      "6\n"
     ]
    },
    {
     "data": {
      "image/png": "[encoded data removed]",
      "text/plain": [
       "<Figure size 432x288 with 1 Axes>"
      ]
     },
     "metadata": {
      "needs_background": "light"
     },
     "output_type": "display_data"
    },
    {
     "name": "stdout",
     "output_type": "stream",
     "text": [
      "Límite superior: 9.487729036781154\n",
      "D2: 5.177128632012732\n",
      "El test no rechaza la hipotesis nula.\n"
     ]
    },
    {
     "data": {
      "image/png": "[encoded data removed]",
      "text/plain": [
       "<Figure size 432x288 with 1 Axes>"
      ]
     },
     "metadata": {
      "needs_background": "light"
     },
     "output_type": "display_data"
    },
    {
     "name": "stdout",
     "output_type": "stream",
     "text": [
      "4.588534807527386e-06\n"
     ]
    },
    {
     "name": "stderr",
     "output_type": "stream",
     "text": [
      "./Ejercicios.ipynb:5: RuntimeWarning: divide by zero encountered in double_scalars\n",
      "  \"execution_count\": 1,\n",
      "./Ejercicios.ipynb:5: RuntimeWarning: invalid value encountered in double_scalars\n",
      "  \"execution_count\": 1,\n"
     ]
    },
    {
     "name": "stdout",
     "output_type": "stream",
     "text": [
      "Rendimiento: 0.0009\n"
     ]
    },
    {
     "data": {
      "image/png": "[encoded data removed]",
      "text/plain": [
       "<Figure size 432x288 with 1 Axes>"
      ]
     },
     "metadata": {
      "needs_background": "light"
     },
     "output_type": "display_data"
    },
    {
     "name": "stdout",
     "output_type": "stream",
     "text": [
      "Done\n"
     ]
    }
   ],
   "source": [
    "%run ./Ejercicios.ipynb\n",
    "foo()"
   ]
  },
  {
   "cell_type": "code",
   "execution_count": 7,
   "metadata": {},
   "outputs": [],
   "source": [
    "def get_initial_velocity():\n",
    "    return find_label(random.uniform(0, 1), proba_vector)"
   ]
  },
  {
   "cell_type": "code",
   "execution_count": 8,
   "metadata": {},
   "outputs": [
    {
     "data": {
      "text/plain": [
       "3"
      ]
     },
     "execution_count": 8,
     "metadata": {},
     "output_type": "execute_result"
    }
   ],
   "source": [
    "get_initial_velocity()"
   ]
  },
  {
   "cell_type": "code",
   "execution_count": 227,
   "metadata": {},
   "outputs": [],
   "source": [
    "MAX_DISTANCE = 10000 \n",
    "\n",
    "class Position:\n",
    "    def __init__(self, x, y):\n",
    "        self.x = x\n",
    "        self.y = y\n",
    "        \n",
    "    def x(self):\n",
    "        return self.x\n",
    "    \n",
    "    def y(self):\n",
    "        return self.y\n",
    "    \n",
    "    def is_negative(self):\n",
    "        return (self.x < 0) | (self.y < 0)\n",
    "\n",
    "class Matrix:\n",
    "    def __init__(self, width, height):\n",
    "        self.width = width\n",
    "        self.height = height\n",
    "        \n",
    "        self.matrix = []\n",
    "        for i in range(0, 10):\n",
    "            self.matrix.append([])\n",
    "            for j in range(0, 10):\n",
    "                self.matrix[i].append(None)\n",
    "\n",
    "        \n",
    "    def put(self, position_x, position_y, object):\n",
    "        self.matrix[position_x][position_y] = object\n",
    "        \n",
    "    def is_empty(self, position_x, position_y):\n",
    "        return self.matrix[position_x][position_y] == None\n",
    "        \n",
    "    def distance_to_next_object(self, position_x, position_y, direction):\n",
    "        position_x += direction\n",
    "        distance = 0\n",
    "        while ((0 <= position_x) & (position_x < self.width)) & (distance < MAX_DISTANCE):\n",
    "            if self.matrix[position_x][position_y] != None:\n",
    "                return distance\n",
    "            distance += 1\n",
    "            position_x += direction\n",
    "        return -1\n",
    "    \n",
    "            \n",
    "    def get_next_object(self, position_x, position_y, direction):\n",
    "        position_x += direction\n",
    "        distance = 0\n",
    "        while ((0 <= position_x) & (position_x < self.width)) & (distance < MAX_DISTANCE):\n",
    "            if self.matrix[position_x][position_y] != None:\n",
    "                return self.matrix[position_x][position_y]\n",
    "            distance += 1\n",
    "            position_x += direction\n",
    "        return None\n",
    "    \n",
    "    def get(self):\n",
    "        print(self.matrix)"
   ]
  },
  {
   "cell_type": "code",
   "execution_count": 229,
   "metadata": {},
   "outputs": [],
   "source": [
    "s = Semaforo(10,10)\n",
    "pos = Position(3,2)\n",
    "m = Matrix(10,10)\n",
    "p = Pedestrian(pos, 3)"
   ]
  },
  {
   "cell_type": "code",
   "execution_count": 230,
   "metadata": {},
   "outputs": [
    {
     "data": {
      "text/plain": [
       "False"
      ]
     },
     "execution_count": 230,
     "metadata": {},
     "output_type": "execute_result"
    }
   ],
   "source": [
    "s.is_red()"
   ]
  },
  {
   "cell_type": "code",
   "execution_count": 231,
   "metadata": {},
   "outputs": [],
   "source": [
    "p.set_in_matrix(m)"
   ]
  },
  {
   "cell_type": "code",
   "execution_count": 236,
   "metadata": {},
   "outputs": [
    {
     "name": "stdout",
     "output_type": "stream",
     "text": [
      "2 2\n"
     ]
    }
   ],
   "source": [
    "n = p.avanzar(m, s)\n",
    "print(n.x, n.y)"
   ]
  },
  {
   "cell_type": "code",
   "execution_count": 228,
   "metadata": {},
   "outputs": [],
   "source": [
    "class Pedestrian:\n",
    "    def __init__(self, position, velocity):\n",
    "        self.position = position\n",
    "        self.direction = 'right'\n",
    "        self.velocity = velocity\n",
    "        self.next_position = None\n",
    "       \n",
    "    def set_in_matrix(self, matrix):\n",
    "        matrix.put(self.position.x, self.position.y, self)\n",
    "        \n",
    "    def avanzar(self, matrix, semaforo):\n",
    "        if semaforo.is_red():\n",
    "            \n",
    "            if self.position.is_negative(): # no empezo a cruzar\n",
    "                return\n",
    "        \n",
    "            # Semaforo rojo y estaba cruzando, avanza a maxima velocidad\n",
    "            self.velocity = 6\n",
    "            self.next_position = Position(self.position.x + 6, self.position.y)\n",
    "            return self.next_position\n",
    "        \n",
    "        else:  # Semaforo verde\n",
    "            if self.position.is_negative(): # no empezo a cruzar\n",
    "                locate()\n",
    "                \n",
    "            self.move_forward(matrix) \n",
    "            if not self.next_position:  # Posicion ocupada\n",
    "                lane_change(matrix)\n",
    "            return self.next_position\n",
    "            \n",
    "    \n",
    "    # Establece su posicion y direccion inicial\n",
    "    def locate(self):\n",
    "        # cambiar por posiciones al azar\n",
    "        self.position = Position(0,0)\n",
    "        self.direction = 'right'\n",
    "        \n",
    "        \n",
    "    def move_forward(self, matrix):\n",
    "        if self.direction == 'right':\n",
    "            direction = 1\n",
    "        elif self.direction == 'left':\n",
    "            direction = -1\n",
    "        d = matrix.distance_to_next_object(self.position.x, self.position.y, direction)\n",
    "        if d == 0:\n",
    "            return None\n",
    "        \n",
    "        self.next_position = Position(self.position.x + self.velocity * direction, self.position.y)\n",
    "        self.update_velocity(matrix)\n",
    "        \n",
    "        \n",
    "    def update_velocity(self, matrix):\n",
    "        if self.direction == 'right':\n",
    "            direction = 1\n",
    "        elif self.direction == 'left':\n",
    "            direction = -1\n",
    "        d = matrix.distance_to_next_object(self.position.x, self.position.y, direction)\n",
    "        self.velocity = min(d, self.velocity)\n",
    "        \n",
    "\n",
    "    def lane_change(self, matrix):\n",
    "        if self.direction == 'right':\n",
    "            direction = 1\n",
    "        elif self.direction == 'left':\n",
    "            direction = -1\n",
    "        d = matrix.distance_to_next_object(self.position.x, self.position.y, direction)\n",
    "        if d != 0: \n",
    "            return\n",
    "        if can_turn_right(matrix) & can_turn_left(matrix):\n",
    "            if (np.random() < 0.5):\n",
    "                turn_right()\n",
    "            else:\n",
    "                turn_left()\n",
    "        elif can_turn_right(matrix):\n",
    "            turn_right()\n",
    "        elif can_turn_left(matrix):\n",
    "            turn_left()\n",
    "            \n",
    "    \n",
    "    def turn_right(self):\n",
    "        self.next_position = Position(self.position.x, self.position.y + 1)\n",
    "    \n",
    "    def turn_left(self):\n",
    "        self.next_position = Position(self.position.x, self.position.y - 1)\n",
    "        \n",
    "                                      \n",
    "    def can_turn_right(self, matrix):\n",
    "        return ( not matrix.is_empty(self.position.x, self.position.y + 1)) & \\\n",
    "               (velocity_higher_than_last(self.position.y + 1, matrix)) & \\\n",
    "               (velocity_less_than_next(self.position.y + 1))\n",
    "                                      \n",
    "    def can_turn_left(self, matrix):\n",
    "        return (not matrix.is_empty(self.position.x, self.position.y - 1)) & \\\n",
    "               (velocity_higher_than_last(self.position.y - 1, matrix)) & \\\n",
    "               (velocity_less_than_next(self.position.y - 1))\n",
    "        \n",
    "    def velocity_higher_than_last(self, position_y, matrix):\n",
    "        if self.direction == 'right':\n",
    "            direction = -1\n",
    "        elif self.direction == 'left':\n",
    "            direction = 1\n",
    "        last_pedestrian = matrix.get_next_object(self.position.x, position_y, direction)\n",
    "        return self.velocity > last_pedestrian.velocity    \n",
    "                \n",
    "    def velocity_less_than_next(self, position_y, matrix):\n",
    "        if self.direction == 'right':\n",
    "            direction = 1\n",
    "        elif self.direction == 'left':\n",
    "            direction = -1\n",
    "        distance = matrix.distance_to_next_object(self.position.x, position_y, direction)\n",
    "        return self.velocity < distance\n",
    " \n",
    "                                      \n",
    "    def __str__(self):\n",
    "        return 'Pos {0} Vel {1}'.format(self.position, self.velocity)\n",
    "\n",
    "class Car:\n",
    "    def __init__(self, position, velocity):\n",
    "        self.position = position\n",
    "        self.velocity = velocity\n",
    "        size_x = 6\n",
    "        size_y = 5\n",
    "        \n",
    "        \n",
    "    def set_in_matrix(matrix):\n",
    "        # con todas las posiciones\n",
    "        matrix.put(self.position.x, self.position.y, self)\n",
    "        \n",
    "    def __str__(self):\n",
    "        return 'Pos {0} Vel {1}'.format(self.position, self.velocity)\n",
    "\n",
    "class Semaforo:\n",
    "    def __init__(self, tiempo_verde, tiempo_rojo):\n",
    "        # Semaforo rojo significa que el peaton NO PODRÍA CRUZAR y el auto SI\n",
    "        self.estado = 'verde'\n",
    "        self.timer = 0\n",
    "        self.tiempo_verde = tiempo_verde\n",
    "        self.tiempo_rojo = tiempo_rojo\n",
    "    \n",
    "    def iterar(self, t):\n",
    "            self.timer += 1\n",
    "            if(self.estado == 'verde' and self.timer > self.tiempo_verde):\n",
    "                self.timer = 0\n",
    "                self.estado = 'rojo'\n",
    "                \n",
    "            elif(self.estado == 'rojo' and self.timer > self.tiempo_rojo):\n",
    "                self.timer = 0\n",
    "                self.estado = 'verde'\n",
    "                \n",
    "    def is_red(self):\n",
    "        return self.estado == 'rojo'\n",
    "                \n",
    "    def __str__(self):\n",
    "        return 'Estado {0}'.format(self.estado)\n"
   ]
  },
  {
   "cell_type": "code",
   "execution_count": 164,
   "metadata": {},
   "outputs": [],
   "source": [
    "for i in range(get_new_pedestrians()):\n",
    "    p_position = (0, random.randint(0, y_cells))\n",
    "    p_velocity = get_initial_velocity()\n",
    "    p = Pedestrian(p_position, p_velocity)\n",
    "    print(p)\n",
    "    pedestrians.append(p)\n",
    "    #if ()\n",
    "    #map[p.position.1, p.position.2]"
   ]
  },
  {
   "cell_type": "code",
   "execution_count": 165,
   "metadata": {},
   "outputs": [
    {
     "data": {
      "text/plain": [
       "3"
      ]
     },
     "execution_count": 165,
     "metadata": {},
     "output_type": "execute_result"
    }
   ],
   "source": [
    "len(pedestrians)"
   ]
  },
  {
   "cell_type": "code",
   "execution_count": 166,
   "metadata": {},
   "outputs": [],
   "source": [
    "class State:\n",
    "    def __init__(self, position, velocity):\n",
    "        cars = []\n",
    "        pedestrians = []\n",
    "        crossroad_width = 42\n",
    "        crossroad_height = 10\n",
    "        semaforo_tiempo_verde = 5\n",
    "        semaforo_tiempo_rojo = 20\n",
    "        nro_iteracion = 0\n",
    "        cantidad_iteraciones = 100\n",
    "        semaforo = Semaforo(semaforo_tiempo_verde, semaforo_tiempo_rojo)\n",
    "        \n",
    "        #llegada_peatornes = Poisson ???\n",
    "        #llegada_vehiculos = Poisson ???\n",
    "        \n",
    "        \n",
    "        \n",
    "        \n",
    "    def iterar():\n",
    "        \n",
    "        # llegada de peatones\n",
    "        # llegada de autos\n",
    "        \n",
    "        #avanzar de estado el semaforo\n",
    "        semaforo.iterar(1)\n",
    "        \n",
    "        matriz = get_positions_matrix() \n",
    "        \n",
    "        # Avanzo peatones               \n",
    "        for peaton in pedestrians:\n",
    "            # Debería devolver conflictos peaton espera auto\n",
    "            peaton.avanzar(matriz, semaforo)\n",
    "        \n",
    "        # Avanzo autos\n",
    "        for auto in cars:\n",
    "            # Debería devolver confflictos de tipo auto espera peaton (1)\n",
    "            auto.avanzar(peatones, autos, semaforo)\n",
    "        \n",
    "        \n",
    "    def __str__(self):\n",
    "        return 'Iteracion {0}'.format(self.nro_iteracion)\n",
    "    \n",
    "    def get_matrix():\n",
    "        ''' Devuelve la matriz lista para ser dibujada'''\n",
    "        return [[]]\n",
    "    \n",
    "    def get_positions_matrix():\n",
    "        m = Matrix(crossroad_width, crossroad_height)\n",
    "        for car in cars:\n",
    "            car.set_in_matrix(m)\n",
    "            \n",
    "        for pedetrian in pedestrians:\n",
    "            pedetrian.set_in_matrix(m)\n",
    "        return m\n",
    "                \n",
    "            "
   ]
  },
  {
   "cell_type": "code",
   "execution_count": null,
   "metadata": {},
   "outputs": [],
   "source": []
  },
  {
   "cell_type": "code",
   "execution_count": null,
   "metadata": {},
   "outputs": [],
   "source": []
  },
  {
   "cell_type": "code",
   "execution_count": null,
   "metadata": {},
   "outputs": [],
   "source": []
  }
 ],
 "metadata": {
  "kernelspec": {
   "display_name": "Python 3",
   "language": "python",
   "name": "python3"
  },
  "language_info": {
   "codemirror_mode": {
    "name": "ipython",
    "version": 3
   },
   "file_extension": ".py",
   "mimetype": "text/x-python",
   "name": "python",
   "nbconvert_exporter": "python",
   "pygments_lexer": "ipython3",
   "version": "3.6.9"
  }
 },
 "nbformat": 4,
 "nbformat_minor": 5
}
