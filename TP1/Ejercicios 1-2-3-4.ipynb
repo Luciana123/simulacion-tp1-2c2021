{
 "cells": [
  {
   "cell_type": "code",
   "execution_count": 205,
   "id": "a04935b5",
   "metadata": {},
   "outputs": [],
   "source": [
    "import numpy as np\n",
    "import matplotlib.pyplot as plt\n",
    "import scipy.stats as st\n",
    "from math import sqrt, exp, pi\n",
    "import seaborn as sns"
   ]
  },
  {
   "cell_type": "markdown",
   "id": "81c14855",
   "metadata": {},
   "source": [
    "# Ejercicio 1"
   ]
  },
  {
   "cell_type": "code",
   "execution_count": 206,
   "id": "883dc62e",
   "metadata": {},
   "outputs": [
    {
     "data": {
      "text/plain": [
       "96523"
      ]
     },
     "execution_count": 206,
     "metadata": {},
     "output_type": "execute_result"
    }
   ],
   "source": [
    "# Cálculo de la semilla\n",
    "\n",
    "padrones = [90638, 90638, 99714, 101939, 99689]\n",
    "avg_padrones = sum(padrones) / len(padrones)\n",
    "seed = int(avg_padrones)\n",
    "seed"
   ]
  },
  {
   "cell_type": "code",
   "execution_count": 207,
   "id": "81cfe315",
   "metadata": {},
   "outputs": [],
   "source": [
    "# GCL \n",
    "# Genera números al azar entre 0 y 1 a partir de una semilla num.\n",
    "modulo = 4294967296\n",
    "multiplicador = 1013904223\n",
    "incremento = 1664525\n",
    "\n",
    "def next(num):\n",
    "    return (multiplicador * num + incremento) % modulo"
   ]
  },
  {
   "cell_type": "code",
   "execution_count": 208,
   "id": "b6d582c1",
   "metadata": {},
   "outputs": [],
   "source": [
    "# Test\n",
    "l=[]\n",
    "num = next(seed)\n",
    "for i in range(10000):\n",
    "    l.append(num / modulo)\n",
    "    num = next(num) "
   ]
  },
  {
   "cell_type": "code",
   "execution_count": 209,
   "id": "fe6678ca",
   "metadata": {},
   "outputs": [
    {
     "data": {
      "image/png": "[encoded data removed]",
      "text/plain": [
       "<Figure size 842.4x595.44 with 1 Axes>"
      ]
     },
     "metadata": {},
     "output_type": "display_data"
    }
   ],
   "source": [
    "# Gráficos\n",
    "plt.hist(l, rwidth = 0.8) \n",
    "plt.show()"
   ]
  },
  {
   "cell_type": "markdown",
   "id": "6fdf8d40",
   "metadata": {},
   "source": [
    "# Ejercicio 2) a."
   ]
  },
  {
   "cell_type": "code",
   "execution_count": 210,
   "id": "9540685a",
   "metadata": {},
   "outputs": [
    {
     "data": {
      "text/plain": [
       "[0.273, 0.52, 0.137, 0.048, 0.022]"
      ]
     },
     "execution_count": 210,
     "metadata": {},
     "output_type": "execute_result"
    }
   ],
   "source": [
    "values = [2,3,4,5,6]\n",
    "p = [2730/10000,5200/10000,1370/10000,480/10000,220/10000]\n",
    "\n",
    "# Se probó que con una distribución distinta sí se rechaza la hipótesis nula.\n",
    "# p = [1000/10000,6570/10000,1370/10000,480/10000,220/10000]\n",
    "p"
   ]
  },
  {
   "cell_type": "code",
   "execution_count": 211,
   "id": "331a1d9e",
   "metadata": {},
   "outputs": [
    {
     "data": {
      "text/plain": [
       "[0, 0.273, 0.793, 0.93, 0.9780000000000001, 1.0]"
      ]
     },
     "execution_count": 211,
     "metadata": {},
     "output_type": "execute_result"
    }
   ],
   "source": [
    "proba_vector = [0, p[0], p[0] + p[1], p[0] + p[1] + p[2], p[0] + p[1] + p[2] + p[3], p[0] + p[1] + p[2] + p[3] + p[4]]\n",
    "proba_vector"
   ]
  },
  {
   "cell_type": "code",
   "execution_count": 212,
   "id": "0217b6fb",
   "metadata": {},
   "outputs": [
    {
     "name": "stdout",
     "output_type": "stream",
     "text": [
      "2\n",
      "2\n",
      "3\n",
      "4\n",
      "5\n",
      "6\n"
     ]
    }
   ],
   "source": [
    "#      p2                       p3                          p4                 p5          p6\n",
    "# 0 -------- 0.273 ----------------------- 0.793 ----------------------- 0.93 ----- 0.978 ---- 1\n",
    "\n",
    "def find_label(x, proba_vec):\n",
    "    label_idx = 0\n",
    "    for idx in range(0, len(proba_vec)-1):\n",
    "        if ((x >= proba_vec[idx]) and (x <= proba_vec[idx+1])):\n",
    "            label_idx = idx\n",
    "    return values[label_idx]\n",
    "\n",
    "# Test\n",
    "print(find_label(0.1, proba_vector)) # should be 2\n",
    "print(find_label(0.2, proba_vector)) # should be 2\n",
    "print(find_label(0.5, proba_vector)) # should be 3\n",
    "print(find_label(0.8, proba_vector)) # should be 4\n",
    "print(find_label(0.96, proba_vector)) # should be 5\n",
    "print(find_label(0.99, proba_vector)) # should be 6"
   ]
  },
  {
   "cell_type": "code",
   "execution_count": 213,
   "id": "ada33ed4",
   "metadata": {},
   "outputs": [],
   "source": [
    "# Genero las simulaciones de valores.\n",
    "\n",
    "variable_values=[]\n",
    "num = next(seed)\n",
    "for i in range(100000):\n",
    "    variable_values.append(find_label(num / modulo, proba_vector))\n",
    "    num = next(num) "
   ]
  },
  {
   "cell_type": "code",
   "execution_count": 214,
   "id": "79719ed7",
   "metadata": {},
   "outputs": [
    {
     "data": {
      "image/png": "[encoded data removed]",
      "text/plain": [
       "<Figure size 842.4x595.44 with 1 Axes>"
      ]
     },
     "metadata": {},
     "output_type": "display_data"
    }
   ],
   "source": [
    "# Gráficos\n",
    "\n",
    "plt.bar(*np.unique(variable_values, return_counts=True))\n",
    "plt.show()"
   ]
  },
  {
   "cell_type": "code",
   "execution_count": 215,
   "id": "9f35d0d4",
   "metadata": {},
   "outputs": [
    {
     "data": {
      "image/png": "[encoded data removed]",
      "text/plain": [
       "<Figure size 842.4x595.44 with 1 Axes>"
      ]
     },
     "metadata": {},
     "output_type": "display_data"
    }
   ],
   "source": [
    "plt.figure()\n",
    "a = [number*100 for number in proba_vector]\n",
    "plt.hlines(1,0,100)  # Draw a horizontal line\n",
    "plt.eventplot(a, orientation='horizontal', colors='b')\n",
    "plt.show()"
   ]
  },
  {
   "cell_type": "markdown",
   "id": "91c241f3",
   "metadata": {},
   "source": [
    "# Ejercicio 2b"
   ]
  },
  {
   "cell_type": "code",
   "execution_count": 216,
   "id": "00a1ab37",
   "metadata": {},
   "outputs": [
    {
     "data": {
      "text/plain": [
       "{2: 0.273, 3: 0.52, 4: 0.137, 5: 0.048, 6: 0.022}"
      ]
     },
     "execution_count": 216,
     "metadata": {},
     "output_type": "execute_result"
    }
   ],
   "source": [
    "# Creo un dict, donde las keys son las etiquetas y los valores son las probabilidades de cada una.\n",
    "\n",
    "proba_dict = dict(zip(values, p))\n",
    "proba_dict"
   ]
  },
  {
   "cell_type": "markdown",
   "id": "c1d83073",
   "metadata": {},
   "source": [
    "## Test de chi2\n",
    "Hipótesis nula: la distribución se corresponde con la propuesta por el enunciado."
   ]
  },
  {
   "cell_type": "code",
   "execution_count": 217,
   "id": "d2da5e4a",
   "metadata": {},
   "outputs": [
    {
     "name": "stdout",
     "output_type": "stream",
     "text": [
      "Límite superior: 9.487729036781154\n",
      "D2: 5.177128632012732\n",
      "El test no rechaza la hipotesis nula.\n"
     ]
    }
   ],
   "source": [
    "# Estadístico del test: d^2 = sum i...k( (Ys - n * ps)^2 / (n * ps) )\n",
    "\n",
    "from scipy.stats import chi2\n",
    "\n",
    "d2 = 0\n",
    "for i in range(2, 7):\n",
    "    freq_observed = len([val for val in variable_values if val == i])\n",
    "    freq_expected = proba_dict[i] * len(variable_values)\n",
    "    partial_sum = (freq_observed - freq_expected)**2 / (freq_expected)\n",
    "    d2 = d2 + partial_sum\n",
    "\n",
    "# df son los grados de libertad de la chi, debería ser la cantidad de labels (K) menos 1 \n",
    "sup_limit = chi2.ppf(0.95, df=4)\n",
    "print(\"Límite superior: \" + str(sup_limit))\n",
    "print(\"D2: \" + str(d2))\n",
    "\n",
    "if d2 <= sup_limit:  \n",
    "    print(\"El test no rechaza la hipotesis nula.\") \n",
    "else:  \n",
    "    print(\"El test rechaza la hipótesis nula\") "
   ]
  },
  {
   "cell_type": "markdown",
   "id": "2f63c737",
   "metadata": {},
   "source": [
    "# Ejercicio 3"
   ]
  },
  {
   "cell_type": "markdown",
   "id": "482fe377",
   "metadata": {},
   "source": [
    "## Generar una distribución gaussiana\n",
    "Se generara una distribución gaussiana a partir del método de aceptación y rechazo usando como base una exponencial generada con transformada inversa."
   ]
  },
  {
   "cell_type": "code",
   "execution_count": 218,
   "id": "0536bf65",
   "metadata": {},
   "outputs": [],
   "source": [
    "CANT= 100000\n",
    "COTA = sqrt(2*exp(1)/pi)\n",
    "DESVIO = 2\n",
    "MEDIA = 15\n",
    "estandar_simulados = []\n",
    "\n",
    "def gaussian(x):\n",
    "    return exp(-1/2 * x**2) / sqrt(2 * pi)\n",
    "\n",
    "def valor_normal(x):\n",
    "    return MEDIA + DESVIO * x\n",
    "\n",
    "def aceptation_proba(x):\n",
    "    return gaussian(x) / (exp(-x) * COTA)\n",
    "\n",
    "i = 0\n",
    "while i < CANT:\n",
    "    num1 = np.random.exponential(1)\n",
    "    num2= np.random.uniform()\n",
    "    if ( num2 < aceptation_proba(num1)):\n",
    "           estandar_simulados.append(num1) if np.random.rand() < 0.5 else estandar_simulados.append(-num1)           \n",
    "    i +=1\n",
    "            \n",
    "simulados = [valor_normal(numero) for numero in estandar_simulados]"
   ]
  },
  {
   "cell_type": "code",
   "execution_count": 219,
   "id": "680c92fe",
   "metadata": {},
   "outputs": [
    {
     "data": {
      "text/plain": [
       "Text(0.5, 1.0, 'N(15, 2)')"
      ]
     },
     "execution_count": 219,
     "metadata": {},
     "output_type": "execute_result"
    },
    {
     "data": {
      "image/png": "[encoded data removed]",
      "text/plain": [
       "<Figure size 864x576 with 1 Axes>"
      ]
     },
     "metadata": {},
     "output_type": "display_data"
    }
   ],
   "source": [
    "fig, ax = plt.subplots(1, 1, figsize=(12,8))\n",
    "\n",
    "ax.hist(simulados,100, density=True)\n",
    "plt.title(\"N(15, 2)\", fontsize=20)"
   ]
  },
  {
   "cell_type": "markdown",
   "id": "4d3fe347",
   "metadata": {},
   "source": [
    "Calculamos la media y varianza"
   ]
  },
  {
   "cell_type": "code",
   "execution_count": 220,
   "id": "76482e11",
   "metadata": {},
   "outputs": [
    {
     "name": "stdout",
     "output_type": "stream",
     "text": [
      "Media : 14.992448959532217\n",
      "Vairanza : 4.012836287574629\n"
     ]
    }
   ],
   "source": [
    "print(f\"Media : {np.mean(simulados)}\")\n",
    "print(f\"Vairanza : {np.var(simulados)}\")"
   ]
  },
  {
   "cell_type": "markdown",
   "id": "e6ee95c0",
   "metadata": {},
   "source": [
    "El test que utilizaremos para comprobar si los datos obetenidos siguen o no a una distribucion normal es el test de Kolmogorov Smirnov"
   ]
  },
  {
   "cell_type": "code",
   "execution_count": 221,
   "id": "4063fe94",
   "metadata": {},
   "outputs": [
    {
     "name": "stdout",
     "output_type": "stream",
     "text": [
      "Estadistico: 0.003531093578878375\n",
      "0.050: 0.728, No se puede rechazar H0\n"
     ]
    }
   ],
   "source": [
    "alpha = 0.05\n",
    "\n",
    "def kolmogorov_smirnov_test():  \n",
    "    r = st.kstest(simulados, st.norm(MEDIA, DESVIO).cdf)\n",
    "    print(\"Estadistico: \" + str(r.statistic))\n",
    "    if (r.pvalue < alpha):\n",
    "        print(f\"No siguen la distribucion pedida, el p-valor es {r.pvalue}\")\n",
    "    else:\n",
    "        print('%.3f: %.3f, No se puede rechazar H0' % (alpha, r.pvalue))\n",
    "\n",
    "kolmogorov_smirnov_test()"
   ]
  },
  {
   "cell_type": "markdown",
   "id": "3f947041",
   "metadata": {},
   "source": [
    "# Ejercicio 4. a"
   ]
  },
  {
   "cell_type": "code",
   "execution_count": 222,
   "id": "76449db7",
   "metadata": {},
   "outputs": [],
   "source": [
    "# Cargamos la simulación de arribos\n",
    "Z = np.loadtxt('docs/tiempos_entre_arribos.txt')"
   ]
  },
  {
   "cell_type": "code",
   "execution_count": 223,
   "id": "f58a71f3",
   "metadata": {},
   "outputs": [
    {
     "data": {
      "text/plain": [
       "Text(0.5, 1.0, 'Tiempo entre arribos')"
      ]
     },
     "execution_count": 223,
     "metadata": {},
     "output_type": "execute_result"
    },
    {
     "data": {
      "image/png": "[encoded data removed]",
      "text/plain": [
       "<Figure size 842.4x595.44 with 1 Axes>"
      ]
     },
     "metadata": {},
     "output_type": "display_data"
    }
   ],
   "source": [
    "# Por definicion de Proceso de Poisson, el tiempo entre arribos debe seguir\n",
    "# una distribución exponencial.\n",
    "sns.histplot(Z)\n",
    "plt.title(\"Tiempo entre arribos\", fontsize=20)"
   ]
  },
  {
   "cell_type": "code",
   "execution_count": 224,
   "id": "6e269480",
   "metadata": {},
   "outputs": [
    {
     "data": {
      "text/plain": [
       "9.889245996494681"
      ]
     },
     "execution_count": 224,
     "metadata": {},
     "output_type": "execute_result"
    }
   ],
   "source": [
    "# A priori sigue una distribución exponencial. Por propiedad E[Z] = 1 / lambda.\n",
    "# Utilizando el estimador por máxima verosimilitud se llega que lambda ~ 1 / avg(Z)\n",
    "\n",
    "# Estimación de la tasa\n",
    "tasa = len(Z) / sum(Z)\n",
    "tasa"
   ]
  },
  {
   "cell_type": "code",
   "execution_count": 225,
   "id": "37f3306b",
   "metadata": {},
   "outputs": [
    {
     "name": "stdout",
     "output_type": "stream",
     "text": [
      "Estadístico: 2.003\n",
      "0.150: 0.922, Datos No exponenciales (Se rechaza H0)\n",
      "0.100: 1.078, Datos No exponenciales (Se rechaza H0)\n",
      "0.050: 1.341, Datos No exponenciales (Se rechaza H0)\n",
      "0.025: 1.606, Datos No exponenciales (Se rechaza H0)\n",
      "0.010: 1.957, Datos No exponenciales (Se rechaza H0)\n"
     ]
    }
   ],
   "source": [
    "# Test Anderson-Darling\n",
    "# H0: Z sigue una distribución exponencial.\n",
    "from numpy.random import randn\n",
    "from scipy.stats import anderson\n",
    "\n",
    "#Ejecutamos el test\n",
    "resultado = anderson(Z, dist='expon')\n",
    "\n",
    "print('Estadístico: %.3f' % resultado.statistic)\n",
    "\n",
    "for i in range(len(resultado.critical_values)):\n",
    "    nivel_significancia, umbral = resultado.significance_level[i]/100, resultado.critical_values[i]\n",
    "    if resultado.statistic < resultado.critical_values[i]:\n",
    "        print('%.3f: %.3f, Datos exponenciales (No se puede rechazar H0)' % (nivel_significancia, umbral))\n",
    "    else:\n",
    "        print('%.3f: %.3f, Datos No exponenciales (Se rechaza H0)' % (nivel_significancia, umbral))"
   ]
  },
  {
   "cell_type": "code",
   "execution_count": 226,
   "id": "371a2168",
   "metadata": {},
   "outputs": [],
   "source": [
    "# Para los niveles de significancia analizados 0.01, 0.025, 0.05, 0.1 y 0.15 se rechaza Ho\n",
    "# Por lo que podemos concluir que Z no sigue una distribucion exponencial."
   ]
  },
  {
   "cell_type": "code",
   "execution_count": 227,
   "id": "9dfe8001",
   "metadata": {},
   "outputs": [],
   "source": [
    "# Genero un vector de distribución exponencial a partir del generador utilizando la inversa\n",
    "# de la funcion de densidad de la misma.\n",
    "\n",
    "# Inversa de la densidad de una VA exponencial\n",
    "def inv_exponential(x, mu):\n",
    "    return (- np.log(1-x) / mu)\n",
    "\n",
    "def exponential(num, mu=tasa):\n",
    "    return inv_exponential(num / modulo, mu)\n",
    "\n",
    "def sim_poisson(seed, n=10000, t_limit=-1):\n",
    "    accum = 0\n",
    "    num = seed\n",
    "    P = []\n",
    "    while (accum <= t_limit if t_limit > 0 else True) and (len(P) < n if n > 0 else True):\n",
    "        num = next(num)\n",
    "        z = exponential(num)\n",
    "        accum += z\n",
    "        P.append(accum)\n",
    "        \n",
    "    return P"
   ]
  },
  {
   "cell_type": "code",
   "execution_count": 228,
   "id": "590c4570",
   "metadata": {},
   "outputs": [
    {
     "data": {
      "text/plain": [
       "<AxesSubplot:>"
      ]
     },
     "execution_count": 228,
     "metadata": {},
     "output_type": "execute_result"
    },
    {
     "data": {
      "image/png": "[encoded data removed]",
      "text/plain": [
       "<Figure size 842.4x595.44 with 1 Axes>"
      ]
     },
     "metadata": {},
     "output_type": "display_data"
    }
   ],
   "source": [
    "# Un mes, se asumen 31 días -> 744 hs\n",
    "P = sim_poisson(int(avg_padrones), n=-1, t_limit=744)\n",
    "\n",
    "sns.set(rc={'figure.figsize':(11.7,8.27)})\n",
    "sns.lineplot(x=P, y=range(len(P)), drawstyle='steps-post')"
   ]
  },
  {
   "cell_type": "markdown",
   "id": "49774329",
   "metadata": {},
   "source": [
    "# Ejercicio 4. b"
   ]
  },
  {
   "cell_type": "code",
   "execution_count": 229,
   "id": "6f558826",
   "metadata": {},
   "outputs": [],
   "source": [
    "from scipy.stats import poisson\n",
    "\n",
    "TOTAL_MUESTRAS = 1000\n",
    "TIEMPO_HS = 73\n",
    "\n",
    "# 1000 muestras de Poisson con lamda = 9.88 hasta 73 horas.\n",
    "muestras = [sim_poisson(x, t_limit=TIEMPO_HS) for x in range(0, TOTAL_MUESTRAS)]\n",
    "\n",
    "def positivos(muestras, f):\n",
    "    return sum([1 for x in muestras if f(x)])"
   ]
  },
  {
   "cell_type": "code",
   "execution_count": 230,
   "id": "107d2f2d",
   "metadata": {},
   "outputs": [],
   "source": [
    "# Las muestras que caen dentro del intervalo [0, t).\n",
    "def first_bucket(P, t):\n",
    "    N = []\n",
    "    for x in P:\n",
    "        if x < t:\n",
    "            N.append(x)\n",
    "        else:\n",
    "            return N"
   ]
  },
  {
   "cell_type": "markdown",
   "id": "a5a3c629",
   "metadata": {},
   "source": [
    "##### Probabilidad que el primer vehículo arribe antes de los 10 minutos."
   ]
  },
  {
   "cell_type": "code",
   "execution_count": 231,
   "id": "b47d4f0d",
   "metadata": {},
   "outputs": [
    {
     "data": {
      "text/plain": [
       "0.806"
      ]
     },
     "execution_count": 231,
     "metadata": {},
     "output_type": "execute_result"
    }
   ],
   "source": [
    "# La calculamos como: P(X >= 1) = 1 - P(X = 0), para t = 1/6 hs.\n",
    "\n",
    "# Estimación\n",
    "T_A = 1/6\n",
    "\n",
    "# Primer arribo antes de los 10 min.\n",
    "def cumple_a(poisson):\n",
    "    return poisson[0] < T_A\n",
    "\n",
    "positivos(muestras, cumple_a) / TOTAL_MUESTRAS"
   ]
  },
  {
   "cell_type": "code",
   "execution_count": 232,
   "id": "cffcc2aa",
   "metadata": {},
   "outputs": [
    {
     "data": {
      "text/plain": [
       "0.8076055651533732"
      ]
     },
     "execution_count": 232,
     "metadata": {},
     "output_type": "execute_result"
    }
   ],
   "source": [
    "# Teoricamente\n",
    "# P(X >= 1) = 1 - P (X = 0)\n",
    "1 - poisson.pmf(0, tasa * T_A)"
   ]
  },
  {
   "cell_type": "markdown",
   "id": "6cf69b0b",
   "metadata": {},
   "source": [
    "##### Probabilidad que el undécimo vehículo arribe después de los 60 minutos."
   ]
  },
  {
   "cell_type": "code",
   "execution_count": 233,
   "id": "1323f8ba",
   "metadata": {},
   "outputs": [
    {
     "data": {
      "text/plain": [
       "0.713"
      ]
     },
     "execution_count": 233,
     "metadata": {},
     "output_type": "execute_result"
    }
   ],
   "source": [
    "# La calculamos como: P(X < 12) = P(X = 0) +...+ P(X = 11), para t = 1 hr.\n",
    "# Estimación\n",
    "T_B = 1\n",
    "\n",
    "def cumple_b(poisson):\n",
    "    return len(first_bucket(poisson, T_B)) < 12\n",
    "    \n",
    "positivos(muestras, cumple_b) / TOTAL_MUESTRAS"
   ]
  },
  {
   "cell_type": "code",
   "execution_count": 234,
   "id": "8377943b",
   "metadata": {},
   "outputs": [
    {
     "data": {
      "text/plain": [
       "0.7093005827751792"
      ]
     },
     "execution_count": 234,
     "metadata": {},
     "output_type": "execute_result"
    }
   ],
   "source": [
    "# Teoricamente\n",
    "sum([poisson.pmf(X, tasa * T_B) for X in range(0, 12)])"
   ]
  },
  {
   "cell_type": "markdown",
   "id": "3e10910d",
   "metadata": {},
   "source": [
    "##### Probabilidad que arriben al menos 750 vehículos antes de las 72 horas."
   ]
  },
  {
   "cell_type": "code",
   "execution_count": 235,
   "id": "33589b86",
   "metadata": {},
   "outputs": [
    {
     "data": {
      "text/plain": [
       "0.086"
      ]
     },
     "execution_count": 235,
     "metadata": {},
     "output_type": "execute_result"
    }
   ],
   "source": [
    "# La calculamos como P(X >= 750) = 1 - P(X < 750) = ...\n",
    "# Estimación\n",
    "T_C = 72\n",
    "\n",
    "def cumple_c(poisson):\n",
    "    return len(first_bucket(poisson, T_C)) >= 750\n",
    "    \n",
    "positivos(muestras, cumple_c) / TOTAL_MUESTRAS"
   ]
  },
  {
   "cell_type": "code",
   "execution_count": 236,
   "id": "69f5f229",
   "metadata": {},
   "outputs": [
    {
     "data": {
      "text/plain": [
       "0.0809784853589276"
      ]
     },
     "execution_count": 236,
     "metadata": {},
     "output_type": "execute_result"
    }
   ],
   "source": [
    "# Teoricamente\n",
    "mu = tasa * T_C\n",
    "1 - sum([poisson.pmf(k, mu) for k in range(0, 750)])"
   ]
  }
 ],
 "metadata": {
  "kernelspec": {
   "display_name": "Python 3",
   "language": "python",
   "name": "python3"
  },
  "language_info": {
   "codemirror_mode": {
    "name": "ipython",
    "version": 3
   },
   "file_extension": ".py",
   "mimetype": "text/x-python",
   "name": "python",
   "nbconvert_exporter": "python",
   "pygments_lexer": "ipython3",
   "version": "3.8.8"
  }
 },
 "nbformat": 4,
 "nbformat_minor": 5
}
